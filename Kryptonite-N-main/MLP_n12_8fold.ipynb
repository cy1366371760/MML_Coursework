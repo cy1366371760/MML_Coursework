{
  "cells": [
    {
      "cell_type": "markdown",
      "metadata": {
        "id": "cHE-CQI26oI-"
      },
      "source": [
        "## N = 12"
      ]
    },
    {
      "cell_type": "code",
      "execution_count": 2,
      "metadata": {
        "colab": {
          "base_uri": "https://localhost:8080/"
        },
        "id": "YDLOgrSl9f7m",
        "outputId": "44c97bc1-ba2f-46a9-b463-8c00e1ac7d07"
      },
      "outputs": [
        {
          "name": "stdout",
          "output_type": "stream",
          "text": [
            "Mounted at /content/drive\n"
          ]
        }
      ],
      "source": [
        "from google.colab import drive\n",
        "\n",
        "drive.mount('/content/drive')"
      ]
    },
    {
      "cell_type": "markdown",
      "metadata": {
        "id": "koLvNcZR6oI_"
      },
      "source": [
        "### Set up Dataloader"
      ]
    },
    {
      "cell_type": "code",
      "execution_count": 3,
      "metadata": {
        "colab": {
          "base_uri": "https://localhost:8080/"
        },
        "id": "EXhxT0K66oJA",
        "outputId": "b67a6e70-dba6-48dc-eccf-e7dbbada4f0a"
      },
      "outputs": [
        {
          "data": {
            "text/plain": [
              "(24000, 12)"
            ]
          },
          "execution_count": 3,
          "metadata": {},
          "output_type": "execute_result"
        }
      ],
      "source": [
        "import numpy as np\n",
        "\n",
        "# load date\n",
        "X = np.load(\"/content/drive/MyDrive/math-ml/Datasets/Datasets/kryptonite-12-X.npy\")\n",
        "X.shape"
      ]
    },
    {
      "cell_type": "code",
      "execution_count": 4,
      "metadata": {
        "colab": {
          "base_uri": "https://localhost:8080/"
        },
        "id": "RLuv5CrE6oJB",
        "outputId": "f6f307b4-ffb1-4059-87b8-1e7dd00461a3"
      },
      "outputs": [
        {
          "data": {
            "text/plain": [
              "(24000,)"
            ]
          },
          "execution_count": 4,
          "metadata": {},
          "output_type": "execute_result"
        }
      ],
      "source": [
        "y = np.load(\"/content/drive/MyDrive/math-ml/Datasets/Datasets/kryptonite-12-y.npy\")\n",
        "y.shape"
      ]
    },
    {
      "cell_type": "code",
      "execution_count": 5,
      "metadata": {
        "id": "wNTQSpXA6oJB"
      },
      "outputs": [],
      "source": [
        "import numpy as np\n",
        "import torch\n",
        "from tqdm import tqdm\n",
        "from torch.utils.data import TensorDataset, DataLoader, Subset\n",
        "from sklearn.model_selection import KFold\n",
        "from sklearn.calibration import calibration_curve\n",
        "import matplotlib.pyplot as plt\n",
        "\n",
        "# Step 1: Apply GMM Transformation to each feature in X\n",
        "X_gmm = np.zeros_like(X)\n",
        "\n",
        "for i in range(X.shape[1]):\n",
        "    # Fit GMM with 2 components for each feature\n",
        "    gmm = GaussianMixture(n_components=2, random_state=0)\n",
        "    gmm.fit(X[:, i].reshape(-1, 1))\n",
        "    X_gmm[:, i] = gmm.predict(X[:, i].reshape(-1, 1))\n",
        "\n",
        "# Step 2: Combine the original features with the GMM-labeled features\n",
        "X_combined = np.concatenate([X, X_gmm], axis=1)\n",
        "\n",
        "# Convert numpy arrays to PyTorch tensors\n",
        "# put input to X_combine if using preprocessing\n",
        "\n",
        "X_tensor = torch.tensor(X, dtype=torch.float)\n",
        "y_tensor = torch.tensor(y, dtype=torch.float)\n",
        "# create a TensorDataset\n",
        "dataset = TensorDataset(X_tensor, y_tensor)\n",
        "\n",
        "# define split sizes (90% train, 10% validation)\n",
        "train_size = int(0.9 * len(dataset))\n",
        "val_size = len(dataset) - train_size\n",
        "# Split the dataset into train and validation\n",
        "train_dataset, val_dataset = torch.utils.data.random_split(dataset, [train_size, val_size])\n"
      ]
    },
    {
      "cell_type": "markdown",
      "metadata": {
        "id": "NeJrCgJy6oJB"
      },
      "source": [
        "### Set Up Model"
      ]
    },
    {
      "cell_type": "code",
      "execution_count": 6,
      "metadata": {
        "id": "_QhqNASC6oJB"
      },
      "outputs": [],
      "source": [
        "import torch.nn as nn\n",
        "import torch.optim as optim\n",
        "import torch.nn.functional as F\n",
        "\n",
        "# build model for training\n",
        "class MLP(nn.Module):\n",
        "    def __init__(self, input_size=9, hidden_size=128, output_size=1):\n",
        "        super(MLP, self).__init__()\n",
        "\n",
        "        self.layer1 = nn.Linear(input_size, hidden_size)\n",
        "        self.layer2 = nn.Linear(hidden_size, hidden_size*2)\n",
        "        self.layer3 = nn.Linear(hidden_size*2, hidden_size*2)\n",
        "        self.layer4 = nn.Linear(hidden_size*2, hidden_size)\n",
        "        self.layer5 = nn.Linear(hidden_size, output_size)\n",
        "\n",
        "\n",
        "    def forward(self, x):\n",
        "        x = F.relu(self.layer1(x))\n",
        "        x = F.relu(self.layer2(x))\n",
        "        x = F.relu(self.layer3(x))\n",
        "        x = F.relu(self.layer4(x))\n",
        "        x = torch.sigmoid(self.layer5(x))  # sigmoid activation for binary output\n",
        "        return x\n"
      ]
    },
    {
      "cell_type": "markdown",
      "metadata": {
        "id": "fPKlB6UF6oJB"
      },
      "source": [
        "### Train"
      ]
    },
    {
      "cell_type": "code",
      "execution_count": 7,
      "metadata": {
        "id": "cd5DXZKD6oJC"
      },
      "outputs": [],
      "source": [
        "def train(model, train_loader, test_loader, loss_fn, optimizer, scheduler):\n",
        "    # set the number of epochs\n",
        "    epochs = 50\n",
        "    best_acc = 0\n",
        "\n",
        "    for epoch in range(epochs):\n",
        "        \"\"\" Training \"\"\"\n",
        "        model.train()\n",
        "\n",
        "        # forward pass\n",
        "        correct = 0\n",
        "        total = 0\n",
        "        train_loss = 0\n",
        "        for X_batch, y_batch in train_loader:\n",
        "            output = model(X_batch).squeeze()\n",
        "            y_preds = torch.round(output)\n",
        "\n",
        "            correct += torch.eq(y_preds, y_batch).sum().item()\n",
        "            total += len(y_batch)\n",
        "\n",
        "            loss = loss_fn(output, y_batch)\n",
        "            train_loss += loss.item()\n",
        "            # zero the optimizer\n",
        "            optimizer.zero_grad()\n",
        "            # backpropagattion\n",
        "            loss.backward()\n",
        "            # GD\n",
        "            optimizer.step()\n",
        "\n",
        "        scheduler.step()\n",
        "        train_acc = (correct / total) * 100\n",
        "\n",
        "        \"\"\" Testing \"\"\"\n",
        "        model.eval()\n",
        "        correct = 0\n",
        "        total = 0\n",
        "        test_loss = 0\n",
        "        fold_outputs = []\n",
        "        fold_labels = []\n",
        "        with torch.inference_mode():\n",
        "            for X_batch, y_batch in test_loader:\n",
        "                output = model(X_batch).squeeze()\n",
        "\n",
        "                # for calibration analysis\n",
        "                fold_outputs.extend(output.cpu().numpy())\n",
        "                fold_labels.extend(y_batch.cpu().numpy())\n",
        "\n",
        "                y_preds = torch.round(output)\n",
        "\n",
        "                correct += torch.eq(y_preds, y_batch).sum().item()\n",
        "                total += len(y_batch)\n",
        "\n",
        "                loss = loss_fn(output, y_batch)\n",
        "                test_loss += loss.item()\n",
        "\n",
        "            test_acc = (correct / total) * 100\n",
        "            if test_acc > best_acc:\n",
        "                best_acc = test_acc\n",
        "                torch.save(model.state_dict(), \"n-9best.pth\")\n",
        "\n",
        "        if epoch % 10 == 0:\n",
        "            print(f\"Epoch: {epoch} | Train Loss: {train_loss:.5f} | Acc: {train_acc:.2f}% | Learning Rate: {scheduler.get_last_lr()[0]:.7f} | Val loss: {test_loss:.5f} | Val Acc: {test_acc:.2f}%\")\n",
        "\n",
        "\n",
        "    return best_acc,  fold_outputs, fold_labels\n",
        "\n",
        "def plot_calibration_curve(y_true, y_prob):\n",
        "    prob_true, prob_pred = calibration_curve(y_true, y_prob, n_bins=10)\n",
        "\n",
        "    plt.figure(figsize=(8, 6))\n",
        "    plt.plot(prob_pred, prob_true, marker='o', label=\"Calibration Curve\")\n",
        "    plt.plot([0, 1], [0, 1], linestyle='--', label=\"Perfectly Calibrated\")\n",
        "    plt.xlabel(\"Mean Predicted Probability\")\n",
        "    plt.ylabel(\"Fraction of Positives\")\n",
        "    plt.title(\"Calibration Curve\")\n",
        "    plt.legend()\n",
        "    plt.show()"
      ]
    },
    {
      "cell_type": "code",
      "execution_count": 9,
      "metadata": {
        "colab": {
          "base_uri": "https://localhost:8080/"
        },
        "id": "eL7MilL46oJC",
        "outputId": "6a7d5ef6-bc18-4c0c-f979-c89d01f510ba"
      },
      "outputs": [
        {
          "name": "stdout",
          "output_type": "stream",
          "text": [
            "\n",
            "\n",
            "Fold: 0\n",
            "Epoch: 0 | Train Loss: 102.59333 | Acc: 50.03% | Learning Rate: 0.0001000 | Val loss: 15.24921 | Val Acc: 50.59%\n",
            "Epoch: 10 | Train Loss: 83.89911 | Acc: 76.34% | Learning Rate: 0.0001000 | Val loss: 11.52763 | Val Acc: 75.48%\n",
            "Epoch: 20 | Train Loss: 23.77944 | Acc: 96.19% | Learning Rate: 0.0000100 | Val loss: 4.29107 | Val Acc: 95.56%\n",
            "Epoch: 30 | Train Loss: 23.05825 | Acc: 96.29% | Learning Rate: 0.0000100 | Val loss: 4.22243 | Val Acc: 95.59%\n",
            "Epoch: 40 | Train Loss: 22.54039 | Acc: 96.32% | Learning Rate: 0.0000010 | Val loss: 4.18252 | Val Acc: 95.59%\n",
            "\n",
            "\n",
            "Fold: 1\n",
            "Epoch: 0 | Train Loss: 102.58444 | Acc: 50.48% | Learning Rate: 0.0001000 | Val loss: 15.24700 | Val Acc: 50.59%\n",
            "Epoch: 10 | Train Loss: 68.47479 | Acc: 78.98% | Learning Rate: 0.0001000 | Val loss: 9.27149 | Val Acc: 81.59%\n",
            "Epoch: 20 | Train Loss: 32.73820 | Acc: 93.55% | Learning Rate: 0.0000100 | Val loss: 5.72265 | Val Acc: 92.48%\n",
            "Epoch: 30 | Train Loss: 31.87242 | Acc: 93.84% | Learning Rate: 0.0000100 | Val loss: 5.67276 | Val Acc: 92.52%\n",
            "Epoch: 40 | Train Loss: 31.12536 | Acc: 94.04% | Learning Rate: 0.0000010 | Val loss: 5.61558 | Val Acc: 92.81%\n",
            "\n",
            "\n",
            "Fold: 2\n",
            "Epoch: 0 | Train Loss: 102.57548 | Acc: 50.62% | Learning Rate: 0.0001000 | Val loss: 15.26408 | Val Acc: 48.93%\n",
            "Epoch: 10 | Train Loss: 54.25487 | Acc: 90.50% | Learning Rate: 0.0001000 | Val loss: 7.00065 | Val Acc: 92.33%\n",
            "Epoch: 20 | Train Loss: 23.04216 | Acc: 96.28% | Learning Rate: 0.0000100 | Val loss: 3.77289 | Val Acc: 96.11%\n",
            "Epoch: 30 | Train Loss: 22.56884 | Acc: 96.33% | Learning Rate: 0.0000100 | Val loss: 3.79229 | Val Acc: 96.11%\n",
            "Epoch: 40 | Train Loss: 22.06557 | Acc: 96.39% | Learning Rate: 0.0000010 | Val loss: 3.77296 | Val Acc: 96.15%\n",
            "\n",
            "\n",
            "Fold: 3\n",
            "Epoch: 0 | Train Loss: 102.58699 | Acc: 50.55% | Learning Rate: 0.0001000 | Val loss: 15.24268 | Val Acc: 51.81%\n",
            "Epoch: 10 | Train Loss: 70.22075 | Acc: 80.70% | Learning Rate: 0.0001000 | Val loss: 9.52544 | Val Acc: 83.30%\n",
            "Epoch: 20 | Train Loss: 24.00000 | Acc: 96.13% | Learning Rate: 0.0000100 | Val loss: 3.68444 | Val Acc: 96.26%\n",
            "Epoch: 30 | Train Loss: 23.13008 | Acc: 96.16% | Learning Rate: 0.0000100 | Val loss: 3.68781 | Val Acc: 96.33%\n",
            "Epoch: 40 | Train Loss: 22.54949 | Acc: 96.26% | Learning Rate: 0.0000010 | Val loss: 3.63748 | Val Acc: 96.37%\n",
            "\n",
            "\n",
            "Fold: 4\n",
            "Epoch: 0 | Train Loss: 102.58880 | Acc: 50.57% | Learning Rate: 0.0001000 | Val loss: 15.25092 | Val Acc: 50.56%\n",
            "Epoch: 10 | Train Loss: 78.41883 | Acc: 78.77% | Learning Rate: 0.0001000 | Val loss: 10.65690 | Val Acc: 79.56%\n",
            "Epoch: 20 | Train Loss: 24.68235 | Acc: 96.17% | Learning Rate: 0.0000100 | Val loss: 3.58516 | Val Acc: 96.56%\n",
            "Epoch: 30 | Train Loss: 24.04437 | Acc: 96.21% | Learning Rate: 0.0000100 | Val loss: 3.49255 | Val Acc: 96.67%\n",
            "Epoch: 40 | Train Loss: 23.51052 | Acc: 96.28% | Learning Rate: 0.0000010 | Val loss: 3.45586 | Val Acc: 96.70%\n",
            "\n",
            "\n",
            "Fold: 5\n",
            "Epoch: 0 | Train Loss: 102.58672 | Acc: 50.34% | Learning Rate: 0.0001000 | Val loss: 15.23366 | Val Acc: 51.15%\n",
            "Epoch: 10 | Train Loss: 85.91346 | Acc: 74.19% | Learning Rate: 0.0001000 | Val loss: 11.82947 | Val Acc: 76.63%\n",
            "Epoch: 20 | Train Loss: 27.57089 | Acc: 95.41% | Learning Rate: 0.0000100 | Val loss: 4.13083 | Val Acc: 95.44%\n",
            "Epoch: 30 | Train Loss: 26.65141 | Acc: 95.57% | Learning Rate: 0.0000100 | Val loss: 4.05799 | Val Acc: 95.52%\n",
            "Epoch: 40 | Train Loss: 25.92615 | Acc: 95.71% | Learning Rate: 0.0000010 | Val loss: 3.96669 | Val Acc: 95.56%\n",
            "\n",
            "\n",
            "Fold: 6\n",
            "Epoch: 0 | Train Loss: 102.58529 | Acc: 50.52% | Learning Rate: 0.0001000 | Val loss: 15.25622 | Val Acc: 49.81%\n",
            "Epoch: 10 | Train Loss: 77.17184 | Acc: 79.25% | Learning Rate: 0.0001000 | Val loss: 10.53037 | Val Acc: 79.56%\n",
            "Epoch: 20 | Train Loss: 23.62617 | Acc: 96.17% | Learning Rate: 0.0000100 | Val loss: 3.85562 | Val Acc: 95.85%\n",
            "Epoch: 30 | Train Loss: 22.82718 | Acc: 96.23% | Learning Rate: 0.0000100 | Val loss: 3.77880 | Val Acc: 95.85%\n",
            "Epoch: 40 | Train Loss: 22.26529 | Acc: 96.31% | Learning Rate: 0.0000010 | Val loss: 3.76806 | Val Acc: 95.85%\n",
            "\n",
            "\n",
            "Fold: 7\n",
            "Epoch: 0 | Train Loss: 102.58939 | Acc: 50.59% | Learning Rate: 0.0001000 | Val loss: 15.23948 | Val Acc: 51.96%\n",
            "Epoch: 10 | Train Loss: 70.40024 | Acc: 82.72% | Learning Rate: 0.0001000 | Val loss: 9.61048 | Val Acc: 83.22%\n",
            "Epoch: 20 | Train Loss: 24.50194 | Acc: 96.10% | Learning Rate: 0.0000100 | Val loss: 4.34660 | Val Acc: 95.63%\n",
            "Epoch: 30 | Train Loss: 23.82841 | Acc: 96.20% | Learning Rate: 0.0000100 | Val loss: 4.33186 | Val Acc: 95.63%\n",
            "Epoch: 40 | Train Loss: 23.28674 | Acc: 96.23% | Learning Rate: 0.0000010 | Val loss: 4.28168 | Val Acc: 95.74%\n",
            "\n",
            "Average Accuracy is: 95.67592592592592\n"
          ]
        }
      ],
      "source": [
        "# Set up 8-fold cross-validation on the training dataset\n",
        "kf = KFold(n_splits=8, shuffle=True)\n",
        "train_indices = list(range(len(train_dataset)))\n",
        "batch = 128\n",
        "accuracy = []\n",
        "\n",
        "all_outputs = []\n",
        "all_labels = []\n",
        "\n",
        "# Generate train-test splits\n",
        "for fold, (train_idx, test_idx) in enumerate(kf.split(train_indices)):\n",
        "    print(\"\\n\\nFold:\", fold)\n",
        "    \"\"\" create dataloaders for each fold \"\"\"\n",
        "    train_subset = Subset(train_dataset, train_idx)\n",
        "    test_subset = Subset(train_dataset, test_idx)\n",
        "    # Creating data loaders for each fold\n",
        "    train_loader = DataLoader(train_subset, batch_size=batch, shuffle=True)\n",
        "    test_loader = DataLoader(test_subset, batch_size=batch, shuffle=False)\n",
        "\n",
        "    \"\"\" initialize the model, loss function, and optimizer \"\"\"\n",
        "    model = MLP(input_size=X_tensor.shape[1], hidden_size=128, output_size=1)\n",
        "    loss_fn = nn.BCELoss()  # binary Cross-Entropy Loss\n",
        "    optimizer = optim.Adam(model.parameters(), lr=1e-4, weight_decay=1e-4)\n",
        "    scheduler = torch.optim.lr_scheduler.StepLR(optimizer, step_size=20, gamma=0.1)\n",
        "\n",
        "    \"\"\" train and test the model \"\"\"\n",
        "    acc, fold_outputs,fold_labels = train(model, train_loader, test_loader, loss_fn, optimizer, scheduler)\n",
        "    accuracy.append(acc)\n",
        "    all_outputs.extend(fold_outputs)  # Collect outputs from all folds\n",
        "    all_labels.extend(fold_labels)    # Collect labels from all folds\n",
        "\n",
        "\n",
        "print(\"\\nAverage Accuracy is:\", np.mean(accuracy))\n",
        "\n"
      ]
    },
    {
      "cell_type": "code",
      "execution_count": 11,
      "metadata": {
        "colab": {
          "base_uri": "https://localhost:8080/"
        },
        "id": "xauik6wAwmem",
        "outputId": "eb7a1719-82c1-4527-b737-8b5479aea5d5"
      },
      "outputs": [
        {
          "name": "stdout",
          "output_type": "stream",
          "text": [
            "\n",
            "Average Accuracy is: 95.67592592592592\n",
            "Expected Calibration Error (ECE): 0.0199\n"
          ]
        }
      ],
      "source": [
        "# Function to compute ECE\n",
        "def compute_ece(y_true, y_prob, n_bins=10):\n",
        "    bin_boundaries = np.linspace(0, 1, n_bins + 1)\n",
        "    ece = 0.0\n",
        "    bin_errors = []  # To store errors for plotting\n",
        "\n",
        "    for i in range(n_bins):\n",
        "        bin_lower = bin_boundaries[i]\n",
        "        bin_upper = bin_boundaries[i + 1]\n",
        "        bin_mask = (y_prob >= bin_lower) & (y_prob < bin_upper)\n",
        "        bin_size = np.sum(bin_mask)\n",
        "\n",
        "        if bin_size > 0:\n",
        "            avg_pred_prob = np.mean(y_prob[bin_mask])\n",
        "            fraction_positives = np.mean(y_true[bin_mask])\n",
        "            error = np.abs(avg_pred_prob - fraction_positives)\n",
        "            ece += (bin_size / len(y_true)) * error\n",
        "            bin_errors.append(error)\n",
        "        else:\n",
        "            bin_errors.append(0.0)\n",
        "\n",
        "    return ece, bin_errors\n",
        "\n",
        "# Compute ECE and get bin errors\n",
        "ece, bin_errors = compute_ece(np.array(all_labels), np.array(all_outputs))\n",
        "print(\"\\nAverage Accuracy is:\", np.mean(accuracy))\n",
        "print(f\"Expected Calibration Error (ECE): {ece:.4f}\")"
      ]
    },
    {
      "cell_type": "code",
      "execution_count": 12,
      "metadata": {
        "colab": {
          "base_uri": "https://localhost:8080/",
          "height": 507
        },
        "id": "v5US5mPLJ226",
        "outputId": "755be1b9-46b9-4fd5-a5a9-1c75db4aead2"
      },
      "outputs": [
        {
          "data": {
            "image/png": "[encoded data removed]",
            "text/plain": [
              "<Figure size 1000x500 with 2 Axes>"
            ]
          },
          "metadata": {},
          "output_type": "display_data"
        }
      ],
      "source": [
        "# Plot Calibration Curve and ECE\n",
        "def plot_calibration_and_ece(y_true, y_prob, bin_errors, n_bins=10):\n",
        "    prob_true, prob_pred = calibration_curve(y_true, y_prob, n_bins=n_bins)\n",
        "\n",
        "    # Plot calibration curve\n",
        "    plt.figure(figsize=(10, 5))\n",
        "    plt.subplot(1, 2, 1)\n",
        "    plt.plot(prob_pred, prob_true, marker='o', label=\"Calibration Curve\")\n",
        "    plt.plot([0, 1], [0, 1], linestyle='--', label=\"Perfectly Calibrated\")\n",
        "    plt.xlabel(\"Mean Predicted Probability\")\n",
        "    plt.ylabel(\"Fraction of Positives\")\n",
        "    plt.title(\"Calibration Curve\")\n",
        "    plt.legend()\n",
        "\n",
        "    # Plot ECE as a bar plot\n",
        "    plt.subplot(1, 2, 2)\n",
        "    plt.bar(range(n_bins), bin_errors, width=0.8, color='blue', alpha=0.6)\n",
        "    plt.xlabel(\"Bins\")\n",
        "    plt.ylabel(\"Calibration Error\")\n",
        "    plt.title(\"Expected Calibration Error (ECE) per Bin\")\n",
        "    plt.tight_layout()\n",
        "    plt.show()\n",
        "# Plot calibration curve\n",
        "plot_calibration_and_ece(np.array(all_labels), np.array(all_outputs), bin_errors)\n"
      ]
    },
    {
      "cell_type": "markdown",
      "metadata": {
        "id": "FAYbh7c86oJC"
      },
      "source": [
        "### Evaluation"
      ]
    },
    {
      "cell_type": "code",
      "execution_count": 14,
      "metadata": {
        "colab": {
          "base_uri": "https://localhost:8080/"
        },
        "id": "845t2olQ6oJC",
        "outputId": "c7387329-655f-4d80-c09e-c282c9b3fc40"
      },
      "outputs": [
        {
          "name": "stderr",
          "output_type": "stream",
          "text": [
            "<ipython-input-14-25cd2a5674c2>:2: FutureWarning: You are using `torch.load` with `weights_only=False` (the current default value), which uses the default pickle module implicitly. It is possible to construct malicious pickle data which will execute arbitrary code during unpickling (See https://github.com/pytorch/pytorch/blob/main/SECURITY.md#untrusted-models for more details). In a future release, the default value for `weights_only` will be flipped to `True`. This limits the functions that could be executed during unpickling. Arbitrary objects will no longer be allowed to be loaded via this mode unless they are explicitly allowlisted by the user via `torch.serialization.add_safe_globals`. We recommend you start setting `weights_only=True` for any use case where you don't have full control of the loaded file. Please open an issue on GitHub for any issues related to this experimental feature.\n",
            "  model.load_state_dict(torch.load(\"n-9best.pth\"))\n",
            "100%|██████████| 19/19 [00:00<00:00, 61.09it/s]"
          ]
        },
        {
          "name": "stdout",
          "output_type": "stream",
          "text": [
            "Test Loss: 3.84246 | Test Acc: 95.25%\n"
          ]
        },
        {
          "name": "stderr",
          "output_type": "stream",
          "text": [
            "\n"
          ]
        }
      ],
      "source": [
        "model = MLP(input_size=12, hidden_size=128, output_size=1)\n",
        "model.load_state_dict(torch.load(\"n-9best.pth\"))\n",
        "model.eval()\n",
        "\n",
        "val_loader = DataLoader(val_dataset, batch_size=batch, shuffle=False)\n",
        "\n",
        "correct = 0\n",
        "total = 0\n",
        "val_loss = 0\n",
        "with torch.inference_mode():\n",
        "    for X_batch, y_batch in tqdm(val_loader):\n",
        "        output = model(X_batch).squeeze()\n",
        "        y_preds = torch.round(output)\n",
        "\n",
        "        correct += torch.eq(y_preds, y_batch).sum().item()\n",
        "        total += len(y_batch)\n",
        "\n",
        "        loss = loss_fn(output, y_batch)\n",
        "        val_loss += loss.item()\n",
        "\n",
        "    val_acc = (correct / total) * 100\n",
        "\n",
        "print(f\"Test Loss: {val_loss:.5f} | Test Acc: {val_acc:.2f}%\")"
      ]
    },
    {
      "cell_type": "code",
      "execution_count": null,
      "metadata": {
        "id": "b2ezdnKm7no1"
      },
      "outputs": [],
      "source": []
    }
  ],
  "metadata": {
    "accelerator": "GPU",
    "colab": {
      "gpuType": "T4",
      "provenance": []
    },
    "kernelspec": {
      "display_name": "Python 3",
      "name": "python3"
    },
    "language_info": {
      "codemirror_mode": {
        "name": "ipython",
        "version": 3
      },
      "file_extension": ".py",
      "mimetype": "text/x-python",
      "name": "python",
      "nbconvert_exporter": "python",
      "pygments_lexer": "ipython3",
      "version": "3.9.17"
    }
  },
  "nbformat": 4,
  "nbformat_minor": 0
}
