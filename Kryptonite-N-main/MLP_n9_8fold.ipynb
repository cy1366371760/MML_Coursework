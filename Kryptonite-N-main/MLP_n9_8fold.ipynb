{
 "cells": [
  {
   "cell_type": "markdown",
   "metadata": {
    "id": "cHE-CQI26oI-"
   },
   "source": [
    "## N = 9"
   ]
  },
  {
   "cell_type": "markdown",
   "metadata": {
    "id": "koLvNcZR6oI_"
   },
   "source": [
    "### Set up Dataloader"
   ]
  },
  {
   "cell_type": "code",
   "execution_count": null,
   "metadata": {
    "colab": {
     "base_uri": "https://localhost:8080/"
    },
    "id": "EXhxT0K66oJA",
    "outputId": "bea5d191-b1f1-4dc6-e067-a584b46a69ab"
   },
   "outputs": [
    {
     "data": {
      "text/plain": [
       "(18000, 9)"
      ]
     },
     "execution_count": 2,
     "metadata": {},
     "output_type": "execute_result"
    }
   ],
   "source": [
    "import numpy as np\n",
    "\n",
    "# load date\n",
    "X = np.load(\"Datasets/kryptonite-9-X.npy\")\n",
    "X.shape"
   ]
  },
  {
   "cell_type": "code",
   "execution_count": null,
   "metadata": {
    "colab": {
     "base_uri": "https://localhost:8080/"
    },
    "id": "RLuv5CrE6oJB",
    "outputId": "c3679d6b-22c5-4935-ac9f-25b803082ff5"
   },
   "outputs": [
    {
     "data": {
      "text/plain": [
       "(18000,)"
      ]
     },
     "execution_count": 3,
     "metadata": {},
     "output_type": "execute_result"
    }
   ],
   "source": [
    "y = np.load(\"Datasets/kryptonite-9-y.npy\")\n",
    "y.shape"
   ]
  },
  {
   "cell_type": "code",
   "execution_count": 4,
   "metadata": {
    "id": "wNTQSpXA6oJB"
   },
   "outputs": [],
   "source": [
    "import numpy as np\n",
    "import torch\n",
    "from tqdm import tqdm\n",
    "from torch.utils.data import TensorDataset, DataLoader, Subset\n",
    "from sklearn.model_selection import KFold\n",
    "from sklearn.calibration import calibration_curve\n",
    "import matplotlib.pyplot as plt\n",
    "\n",
    "# Step 1: Apply GMM Transformation to each feature in X\n",
    "X_gmm = np.zeros_like(X)\n",
    "\n",
    "for i in range(X.shape[1]):\n",
    "    # Fit GMM with 2 components for each feature\n",
    "    gmm = GaussianMixture(n_components=2, random_state=0)\n",
    "    gmm.fit(X[:, i].reshape(-1, 1))\n",
    "    X_gmm[:, i] = gmm.predict(X[:, i].reshape(-1, 1))\n",
    "\n",
    "# Step 2: Combine the original features with the GMM-labeled features\n",
    "X_combined = np.concatenate([X, X_gmm], axis=1)\n",
    "\n",
    "# Convert numpy arrays to PyTorch tensors\n",
    "# put input to X_combine if using preprocessing\n",
    "\n",
    "X_tensor = torch.tensor(X, dtype=torch.float)\n",
    "y_tensor = torch.tensor(y, dtype=torch.float)\n",
    "# create a TensorDataset\n",
    "dataset = TensorDataset(X_tensor, y_tensor)\n",
    "\n",
    "# define split sizes (90% train, 10% validation)\n",
    "train_size = int(0.9 * len(dataset))\n",
    "val_size = len(dataset) - train_size\n",
    "# Split the dataset into train and validation\n",
    "train_dataset, val_dataset = torch.utils.data.random_split(dataset, [train_size, val_size])\n"
   ]
  },
  {
   "cell_type": "markdown",
   "metadata": {
    "id": "NeJrCgJy6oJB"
   },
   "source": [
    "### Set Up Model"
   ]
  },
  {
   "cell_type": "code",
   "execution_count": 5,
   "metadata": {
    "id": "_QhqNASC6oJB"
   },
   "outputs": [],
   "source": [
    "import torch.nn as nn\n",
    "import torch.optim as optim\n",
    "import torch.nn.functional as F\n",
    "\n",
    "# build model for training\n",
    "class MLP(nn.Module):\n",
    "    def __init__(self, input_size=9, hidden_size=128, output_size=1):\n",
    "        super(MLP, self).__init__()\n",
    "\n",
    "        self.layer1 = nn.Linear(input_size, hidden_size)\n",
    "        self.layer2 = nn.Linear(hidden_size, hidden_size*2)\n",
    "        self.layer3 = nn.Linear(hidden_size*2, hidden_size*2)\n",
    "        self.layer4 = nn.Linear(hidden_size*2, hidden_size)\n",
    "        self.layer5 = nn.Linear(hidden_size, output_size)\n",
    "\n",
    "\n",
    "    def forward(self, x):\n",
    "        x = F.relu(self.layer1(x))\n",
    "        x = F.relu(self.layer2(x))\n",
    "        x = F.relu(self.layer3(x))\n",
    "        x = F.relu(self.layer4(x))\n",
    "        x = torch.sigmoid(self.layer5(x))  # sigmoid activation for binary output\n",
    "        return x\n"
   ]
  },
  {
   "cell_type": "markdown",
   "metadata": {
    "id": "fPKlB6UF6oJB"
   },
   "source": [
    "### Train"
   ]
  },
  {
   "cell_type": "code",
   "execution_count": 6,
   "metadata": {
    "id": "cd5DXZKD6oJC"
   },
   "outputs": [],
   "source": [
    "def train(model, train_loader, test_loader, loss_fn, optimizer, scheduler):\n",
    "    # set the number of epochs\n",
    "    epochs = 50\n",
    "    best_acc = 0\n",
    "\n",
    "    for epoch in range(epochs):\n",
    "        \"\"\" Training \"\"\"\n",
    "        model.train()\n",
    "\n",
    "        # forward pass\n",
    "        correct = 0\n",
    "        total = 0\n",
    "        train_loss = 0\n",
    "        for X_batch, y_batch in train_loader:\n",
    "            output = model(X_batch).squeeze()\n",
    "            y_preds = torch.round(output)\n",
    "\n",
    "            correct += torch.eq(y_preds, y_batch).sum().item()\n",
    "            total += len(y_batch)\n",
    "\n",
    "            loss = loss_fn(output, y_batch)\n",
    "            train_loss += loss.item()\n",
    "            # zero the optimizer\n",
    "            optimizer.zero_grad()\n",
    "            # backpropagattion\n",
    "            loss.backward()\n",
    "            # GD\n",
    "            optimizer.step()\n",
    "\n",
    "        scheduler.step()\n",
    "        train_acc = (correct / total) * 100\n",
    "\n",
    "        \"\"\" Testing \"\"\"\n",
    "        model.eval()\n",
    "        correct = 0\n",
    "        total = 0\n",
    "        test_loss = 0\n",
    "        fold_outputs = []\n",
    "        fold_labels = []\n",
    "        with torch.inference_mode():\n",
    "            for X_batch, y_batch in test_loader:\n",
    "                output = model(X_batch).squeeze()\n",
    "\n",
    "                # for calibration analysis\n",
    "                fold_outputs.extend(output.cpu().numpy())\n",
    "                fold_labels.extend(y_batch.cpu().numpy())\n",
    "\n",
    "                y_preds = torch.round(output)\n",
    "\n",
    "                correct += torch.eq(y_preds, y_batch).sum().item()\n",
    "                total += len(y_batch)\n",
    "\n",
    "                loss = loss_fn(output, y_batch)\n",
    "                test_loss += loss.item()\n",
    "\n",
    "            test_acc = (correct / total) * 100\n",
    "            if test_acc > best_acc:\n",
    "                best_acc = test_acc\n",
    "                torch.save(model.state_dict(), \"n-9best.pth\")\n",
    "\n",
    "        if epoch % 10 == 0:\n",
    "            print(f\"Epoch: {epoch} | Train Loss: {train_loss:.5f} | Acc: {train_acc:.2f}% | Learning Rate: {scheduler.get_last_lr()[0]:.7f} | Val loss: {test_loss:.5f} | Val Acc: {test_acc:.2f}%\")\n",
    "\n",
    "\n",
    "    return best_acc,  fold_outputs, fold_labels\n",
    "\n",
    "def plot_calibration_curve(y_true, y_prob):\n",
    "    prob_true, prob_pred = calibration_curve(y_true, y_prob, n_bins=10)\n",
    "\n",
    "    plt.figure(figsize=(8, 6))\n",
    "    plt.plot(prob_pred, prob_true, marker='o', label=\"Calibration Curve\")\n",
    "    plt.plot([0, 1], [0, 1], linestyle='--', label=\"Perfectly Calibrated\")\n",
    "    plt.xlabel(\"Mean Predicted Probability\")\n",
    "    plt.ylabel(\"Fraction of Positives\")\n",
    "    plt.title(\"Calibration Curve\")\n",
    "    plt.legend()\n",
    "    plt.show()"
   ]
  },
  {
   "cell_type": "code",
   "execution_count": 7,
   "metadata": {
    "colab": {
     "base_uri": "https://localhost:8080/"
    },
    "id": "eL7MilL46oJC",
    "outputId": "5e3db643-3dac-4d96-c8ac-89619e66eb2d"
   },
   "outputs": [
    {
     "name": "stdout",
     "output_type": "stream",
     "text": [
      "\n",
      "\n",
      "Fold: 0\n",
      "Epoch: 0 | Train Loss: 76.93935 | Acc: 50.46% | Learning Rate: 0.0001000 | Val loss: 11.09040 | Val Acc: 50.17%\n",
      "Epoch: 10 | Train Loss: 20.01646 | Acc: 95.80% | Learning Rate: 0.0001000 | Val loss: 3.41508 | Val Acc: 95.01%\n",
      "Epoch: 20 | Train Loss: 17.63819 | Acc: 95.86% | Learning Rate: 0.0000100 | Val loss: 3.28503 | Val Acc: 95.01%\n",
      "Epoch: 30 | Train Loss: 17.35400 | Acc: 95.85% | Learning Rate: 0.0000100 | Val loss: 3.29492 | Val Acc: 95.06%\n",
      "Epoch: 40 | Train Loss: 17.16440 | Acc: 95.85% | Learning Rate: 0.0000010 | Val loss: 3.32597 | Val Acc: 94.91%\n",
      "\n",
      "\n",
      "Fold: 1\n",
      "Epoch: 0 | Train Loss: 76.93569 | Acc: 50.73% | Learning Rate: 0.0001000 | Val loss: 11.08282 | Val Acc: 50.02%\n",
      "Epoch: 10 | Train Loss: 21.32433 | Acc: 95.46% | Learning Rate: 0.0001000 | Val loss: 3.06226 | Val Acc: 95.65%\n",
      "Epoch: 20 | Train Loss: 18.83020 | Acc: 95.67% | Learning Rate: 0.0000100 | Val loss: 2.84302 | Val Acc: 95.75%\n",
      "Epoch: 30 | Train Loss: 18.59646 | Acc: 95.68% | Learning Rate: 0.0000100 | Val loss: 2.83770 | Val Acc: 95.80%\n",
      "Epoch: 40 | Train Loss: 18.39786 | Acc: 95.70% | Learning Rate: 0.0000010 | Val loss: 2.83476 | Val Acc: 95.80%\n",
      "\n",
      "\n",
      "Fold: 2\n",
      "Epoch: 0 | Train Loss: 76.94305 | Acc: 50.46% | Learning Rate: 0.0001000 | Val loss: 11.08262 | Val Acc: 51.01%\n",
      "Epoch: 10 | Train Loss: 19.54261 | Acc: 95.82% | Learning Rate: 0.0001000 | Val loss: 3.16826 | Val Acc: 95.26%\n",
      "Epoch: 20 | Train Loss: 17.59728 | Acc: 95.84% | Learning Rate: 0.0000100 | Val loss: 3.11288 | Val Acc: 95.21%\n",
      "Epoch: 30 | Train Loss: 17.32524 | Acc: 95.86% | Learning Rate: 0.0000100 | Val loss: 3.08292 | Val Acc: 95.26%\n",
      "Epoch: 40 | Train Loss: 17.17368 | Acc: 95.87% | Learning Rate: 0.0000010 | Val loss: 3.08868 | Val Acc: 95.26%\n",
      "\n",
      "\n",
      "Fold: 3\n",
      "Epoch: 0 | Train Loss: 76.92056 | Acc: 50.57% | Learning Rate: 0.0001000 | Val loss: 11.08278 | Val Acc: 51.11%\n",
      "Epoch: 10 | Train Loss: 20.60544 | Acc: 95.60% | Learning Rate: 0.0001000 | Val loss: 2.56256 | Val Acc: 96.49%\n",
      "Epoch: 20 | Train Loss: 18.49451 | Acc: 95.66% | Learning Rate: 0.0000100 | Val loss: 2.48070 | Val Acc: 96.49%\n",
      "Epoch: 30 | Train Loss: 18.23621 | Acc: 95.66% | Learning Rate: 0.0000100 | Val loss: 2.48664 | Val Acc: 96.49%\n",
      "Epoch: 40 | Train Loss: 18.04252 | Acc: 95.68% | Learning Rate: 0.0000010 | Val loss: 2.49375 | Val Acc: 96.49%\n",
      "\n",
      "\n",
      "Fold: 4\n",
      "Epoch: 0 | Train Loss: 76.91927 | Acc: 51.67% | Learning Rate: 0.0001000 | Val loss: 11.08169 | Val Acc: 54.07%\n",
      "Epoch: 10 | Train Loss: 20.01491 | Acc: 95.70% | Learning Rate: 0.0001000 | Val loss: 2.73242 | Val Acc: 96.25%\n",
      "Epoch: 20 | Train Loss: 18.18545 | Acc: 95.72% | Learning Rate: 0.0000100 | Val loss: 2.63755 | Val Acc: 96.25%\n",
      "Epoch: 30 | Train Loss: 17.94965 | Acc: 95.72% | Learning Rate: 0.0000100 | Val loss: 2.65374 | Val Acc: 96.25%\n",
      "Epoch: 40 | Train Loss: 17.76320 | Acc: 95.73% | Learning Rate: 0.0000010 | Val loss: 2.64065 | Val Acc: 96.25%\n",
      "\n",
      "\n",
      "Fold: 5\n",
      "Epoch: 0 | Train Loss: 76.93115 | Acc: 50.73% | Learning Rate: 0.0001000 | Val loss: 11.09123 | Val Acc: 49.48%\n",
      "Epoch: 10 | Train Loss: 20.44362 | Acc: 95.70% | Learning Rate: 0.0001000 | Val loss: 3.09230 | Val Acc: 95.31%\n",
      "Epoch: 20 | Train Loss: 18.25979 | Acc: 95.77% | Learning Rate: 0.0000100 | Val loss: 3.02121 | Val Acc: 95.65%\n",
      "Epoch: 30 | Train Loss: 17.99788 | Acc: 95.80% | Learning Rate: 0.0000100 | Val loss: 3.03275 | Val Acc: 95.56%\n",
      "Epoch: 40 | Train Loss: 17.78620 | Acc: 95.79% | Learning Rate: 0.0000010 | Val loss: 3.02195 | Val Acc: 95.51%\n",
      "\n",
      "\n",
      "Fold: 6\n",
      "Epoch: 0 | Train Loss: 76.93321 | Acc: 50.50% | Learning Rate: 0.0001000 | Val loss: 11.08671 | Val Acc: 50.72%\n",
      "Epoch: 10 | Train Loss: 20.85770 | Acc: 95.63% | Learning Rate: 0.0001000 | Val loss: 3.29526 | Val Acc: 94.81%\n",
      "Epoch: 20 | Train Loss: 18.34977 | Acc: 95.80% | Learning Rate: 0.0000100 | Val loss: 3.19701 | Val Acc: 95.06%\n",
      "Epoch: 30 | Train Loss: 18.09362 | Acc: 95.84% | Learning Rate: 0.0000100 | Val loss: 3.21751 | Val Acc: 95.06%\n",
      "Epoch: 40 | Train Loss: 17.92873 | Acc: 95.86% | Learning Rate: 0.0000010 | Val loss: 3.22379 | Val Acc: 95.06%\n",
      "\n",
      "\n",
      "Fold: 7\n",
      "Epoch: 0 | Train Loss: 76.92125 | Acc: 51.61% | Learning Rate: 0.0001000 | Val loss: 11.07928 | Val Acc: 54.96%\n",
      "Epoch: 10 | Train Loss: 19.81846 | Acc: 95.72% | Learning Rate: 0.0001000 | Val loss: 2.83799 | Val Acc: 96.05%\n",
      "Epoch: 20 | Train Loss: 17.91506 | Acc: 95.75% | Learning Rate: 0.0000100 | Val loss: 2.78884 | Val Acc: 96.00%\n",
      "Epoch: 30 | Train Loss: 17.67671 | Acc: 95.75% | Learning Rate: 0.0000100 | Val loss: 2.80151 | Val Acc: 96.00%\n",
      "Epoch: 40 | Train Loss: 17.48749 | Acc: 95.76% | Learning Rate: 0.0000010 | Val loss: 2.79233 | Val Acc: 96.00%\n",
      "\n",
      "Average Accuracy is: 95.74691358024691\n"
     ]
    }
   ],
   "source": [
    "# Set up 8-fold cross-validation on the training dataset\n",
    "kf = KFold(n_splits=8, shuffle=True)\n",
    "train_indices = list(range(len(train_dataset)))\n",
    "batch = 128\n",
    "accuracy = []\n",
    "\n",
    "all_outputs = []\n",
    "all_labels = []\n",
    "\n",
    "# Generate train-test splits\n",
    "for fold, (train_idx, test_idx) in enumerate(kf.split(train_indices)):\n",
    "    print(\"\\n\\nFold:\", fold)\n",
    "    \"\"\" create dataloaders for each fold \"\"\"\n",
    "    train_subset = Subset(train_dataset, train_idx)\n",
    "    test_subset = Subset(train_dataset, test_idx)\n",
    "    # Creating data loaders for each fold\n",
    "    train_loader = DataLoader(train_subset, batch_size=batch, shuffle=True)\n",
    "    test_loader = DataLoader(test_subset, batch_size=batch, shuffle=False)\n",
    "\n",
    "    \"\"\" initialize the model, loss function, and optimizer \"\"\"\n",
    "    model = MLP(input_size=X_tensor.shape[1], hidden_size=128, output_size=1)\n",
    "    loss_fn = nn.BCELoss()  # binary Cross-Entropy Loss\n",
    "    optimizer = optim.Adam(model.parameters(), lr=1e-4, weight_decay=1e-4)\n",
    "    scheduler = torch.optim.lr_scheduler.StepLR(optimizer, step_size=20, gamma=0.1)\n",
    "\n",
    "    \"\"\" train and test the model \"\"\"\n",
    "    acc, fold_outputs,fold_labels = train(model, train_loader, test_loader, loss_fn, optimizer, scheduler)\n",
    "    accuracy.append(acc)\n",
    "    all_outputs.extend(fold_outputs)  # Collect outputs from all folds\n",
    "    all_labels.extend(fold_labels)    # Collect labels from all folds\n",
    "\n",
    "\n",
    "print(\"\\nAverage Accuracy is:\", np.mean(accuracy))\n",
    "\n"
   ]
  },
  {
   "cell_type": "code",
   "execution_count": 8,
   "metadata": {
    "colab": {
     "base_uri": "https://localhost:8080/"
    },
    "id": "xauik6wAwmem",
    "outputId": "c2d28075-a789-47c6-c35f-68a5ff22246b"
   },
   "outputs": [
    {
     "name": "stdout",
     "output_type": "stream",
     "text": [
      "\n",
      "Average Accuracy is: 95.74691358024691\n",
      "Expected Calibration Error (ECE): 0.0137\n"
     ]
    }
   ],
   "source": [
    "# Function to compute ECE\n",
    "def compute_ece(y_true, y_prob, n_bins=10):\n",
    "    bin_boundaries = np.linspace(0, 1, n_bins + 1)\n",
    "    ece = 0.0\n",
    "    bin_errors = []  # To store errors for plotting\n",
    "\n",
    "    for i in range(n_bins):\n",
    "        bin_lower = bin_boundaries[i]\n",
    "        bin_upper = bin_boundaries[i + 1]\n",
    "        bin_mask = (y_prob >= bin_lower) & (y_prob < bin_upper)\n",
    "        bin_size = np.sum(bin_mask)\n",
    "\n",
    "        if bin_size > 0:\n",
    "            avg_pred_prob = np.mean(y_prob[bin_mask])\n",
    "            fraction_positives = np.mean(y_true[bin_mask])\n",
    "            error = np.abs(avg_pred_prob - fraction_positives)\n",
    "            ece += (bin_size / len(y_true)) * error\n",
    "            bin_errors.append(error)\n",
    "        else:\n",
    "            bin_errors.append(0.0)\n",
    "\n",
    "    return ece, bin_errors\n",
    "\n",
    "# Compute ECE and get bin errors\n",
    "ece, bin_errors = compute_ece(np.array(all_labels), np.array(all_outputs))\n",
    "print(\"\\nAverage Accuracy is:\", np.mean(accuracy))\n",
    "print(f\"Expected Calibration Error (ECE): {ece:.4f}\")"
   ]
  },
  {
   "cell_type": "code",
   "execution_count": 11,
   "metadata": {
    "colab": {
     "base_uri": "https://localhost:8080/",
     "height": 507
    },
    "id": "v5US5mPLJ226",
    "outputId": "84284d69-abda-4210-dc3b-ecfd3d603c7c"
   },
   "outputs": [
    {
     "data": {
      "image/png": "[encoded data removed]",
      "text/plain": [
       "<Figure size 1000x500 with 2 Axes>"
      ]
     },
     "metadata": {},
     "output_type": "display_data"
    }
   ],
   "source": [
    "# Plot Calibration Curve and ECE\n",
    "def plot_calibration_and_ece(y_true, y_prob, bin_errors, n_bins=10):\n",
    "    prob_true, prob_pred = calibration_curve(y_true, y_prob, n_bins=n_bins)\n",
    "\n",
    "    # Plot calibration curve\n",
    "    plt.figure(figsize=(10, 5))\n",
    "    plt.subplot(1, 2, 1)\n",
    "    plt.plot(prob_pred, prob_true, marker='o', label=\"Calibration Curve\")\n",
    "    plt.plot([0, 1], [0, 1], linestyle='--', label=\"Perfectly Calibrated\")\n",
    "    plt.xlabel(\"Mean Predicted Probability\")\n",
    "    plt.ylabel(\"Fraction of Positives\")\n",
    "    plt.title(\"Calibration Curve\")\n",
    "    plt.legend()\n",
    "\n",
    "    # Plot ECE as a bar plot\n",
    "    plt.subplot(1, 2, 2)\n",
    "    plt.bar(range(n_bins), bin_errors, width=0.8, color='blue', alpha=0.6)\n",
    "    plt.xlabel(\"Bins\")\n",
    "    plt.ylabel(\"Calibration Error\")\n",
    "    plt.title(\"Expected Calibration Error (ECE) per Bin\")\n",
    "    plt.tight_layout()\n",
    "    plt.show()\n",
    "# Plot calibration curve\n",
    "plot_calibration_and_ece(np.array(all_labels), np.array(all_outputs), bin_errors)\n"
   ]
  },
  {
   "cell_type": "markdown",
   "metadata": {
    "id": "FAYbh7c86oJC"
   },
   "source": [
    "### Evaluation"
   ]
  },
  {
   "cell_type": "code",
   "execution_count": null,
   "metadata": {
    "colab": {
     "base_uri": "https://localhost:8080/"
    },
    "id": "845t2olQ6oJC",
    "outputId": "f73403fe-6435-45eb-81d9-fb27a0cef6ef"
   },
   "outputs": [
    {
     "name": "stderr",
     "output_type": "stream",
     "text": [
      "<ipython-input-18-4f430b98a633>:2: FutureWarning: You are using `torch.load` with `weights_only=False` (the current default value), which uses the default pickle module implicitly. It is possible to construct malicious pickle data which will execute arbitrary code during unpickling (See https://github.com/pytorch/pytorch/blob/main/SECURITY.md#untrusted-models for more details). In a future release, the default value for `weights_only` will be flipped to `True`. This limits the functions that could be executed during unpickling. Arbitrary objects will no longer be allowed to be loaded via this mode unless they are explicitly allowlisted by the user via `torch.serialization.add_safe_globals`. We recommend you start setting `weights_only=True` for any use case where you don't have full control of the loaded file. Please open an issue on GitHub for any issues related to this experimental feature.\n",
      "  model.load_state_dict(torch.load(\"n-9best.pth\"))\n",
      "100%|██████████| 15/15 [00:00<00:00, 724.84it/s]"
     ]
    },
    {
     "name": "stdout",
     "output_type": "stream",
     "text": [
      "Test Loss: 2.89696 | Test Acc: 95.56%\n"
     ]
    },
    {
     "name": "stderr",
     "output_type": "stream",
     "text": [
      "\n"
     ]
    }
   ],
   "source": [
    "model = MLP(input_size=9, hidden_size=128, output_size=1)\n",
    "model.load_state_dict(torch.load(\"n-9best.pth\"))\n",
    "model.eval()\n",
    "\n",
    "val_loader = DataLoader(val_dataset, batch_size=batch, shuffle=False)\n",
    "\n",
    "correct = 0\n",
    "total = 0\n",
    "val_loss = 0\n",
    "with torch.inference_mode():\n",
    "    for X_batch, y_batch in tqdm(val_loader):\n",
    "        output = model(X_batch).squeeze()\n",
    "        y_preds = torch.round(output)\n",
    "\n",
    "        correct += torch.eq(y_preds, y_batch).sum().item()\n",
    "        total += len(y_batch)\n",
    "\n",
    "        loss = loss_fn(output, y_batch)\n",
    "        val_loss += loss.item()\n",
    "\n",
    "    val_acc = (correct / total) * 100\n",
    "\n",
    "print(f\"Test Loss: {val_loss:.5f} | Test Acc: {val_acc:.2f}%\")"
   ]
  }
 ],
 "metadata": {
  "colab": {
   "provenance": []
  },
  "kernelspec": {
   "display_name": "Python 3",
   "name": "python3"
  },
  "language_info": {
   "codemirror_mode": {
    "name": "ipython",
    "version": 3
   },
   "file_extension": ".py",
   "mimetype": "text/x-python",
   "name": "python",
   "nbconvert_exporter": "python",
   "pygments_lexer": "ipython3",
   "version": "3.9.17"
  }
 },
 "nbformat": 4,
 "nbformat_minor": 0
}
