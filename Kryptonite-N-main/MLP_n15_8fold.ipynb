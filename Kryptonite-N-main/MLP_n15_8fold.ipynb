{
  "cells": [
    {
      "cell_type": "code",
      "execution_count": 1,
      "metadata": {
        "colab": {
          "base_uri": "https://localhost:8080/"
        },
        "id": "6X5iXH1MTU0Q",
        "outputId": "9d5b9dd5-b7c1-407a-d182-67f08f62d594"
      },
      "outputs": [
        {
          "name": "stdout",
          "output_type": "stream",
          "text": [
            "Mounted at /content/drive\n"
          ]
        }
      ],
      "source": [
        "from google.colab import drive\n",
        "drive.mount('/content/drive')\n",
        "\n",
        "!cd /content/drive/MyDrive/math-ml/Datasets/"
      ]
    },
    {
      "cell_type": "markdown",
      "metadata": {
        "id": "DWw2-klFSsdW"
      },
      "source": [
        "## N = 15"
      ]
    },
    {
      "cell_type": "markdown",
      "metadata": {
        "id": "LHK-GyfFSsdW"
      },
      "source": [
        "### Set up Dataloader"
      ]
    },
    {
      "cell_type": "code",
      "execution_count": 2,
      "metadata": {
        "colab": {
          "base_uri": "https://localhost:8080/"
        },
        "id": "rvVrUWgMSsdX",
        "outputId": "15dcfa75-4ebe-4820-94df-5ee2fb9426e6"
      },
      "outputs": [
        {
          "data": {
            "text/plain": [
              "(30000, 15)"
            ]
          },
          "execution_count": 2,
          "metadata": {},
          "output_type": "execute_result"
        }
      ],
      "source": [
        "import numpy as np\n",
        "\n",
        "# load date\n",
        "X = np.load(\"/content/drive/MyDrive/math-ml/Datasets/Datasets/kryptonite-15-X.npy\")\n",
        "X.shape"
      ]
    },
    {
      "cell_type": "code",
      "execution_count": 3,
      "metadata": {
        "colab": {
          "base_uri": "https://localhost:8080/"
        },
        "id": "92_naDJ6SsdX",
        "outputId": "33881723-e5b6-4ab6-85ad-ec7bc05b115b"
      },
      "outputs": [
        {
          "data": {
            "text/plain": [
              "(30000,)"
            ]
          },
          "execution_count": 3,
          "metadata": {},
          "output_type": "execute_result"
        }
      ],
      "source": [
        "y = np.load(\"/content/drive/MyDrive/math-ml/Datasets/Datasets/kryptonite-15-y.npy\")\n",
        "y.shape"
      ]
    },
    {
      "cell_type": "code",
      "execution_count": 4,
      "metadata": {
        "id": "qQEeFfq6SsdY"
      },
      "outputs": [],
      "source": [
        "import numpy as np\n",
        "import torch\n",
        "from tqdm import tqdm\n",
        "from torch.utils.data import TensorDataset, DataLoader, Subset\n",
        "from sklearn.model_selection import train_test_split, KFold\n",
        "from sklearn.mixture import GaussianMixture\n",
        "from sklearn.calibration import calibration_curve\n",
        "import matplotlib.pyplot as plt\n",
        "\n",
        "# Step 1: Apply GMM Transformation to each feature in X\n",
        "X_gmm = np.zeros_like(X)\n",
        "\n",
        "for i in range(X.shape[1]):\n",
        "    # Fit GMM with 2 components for each feature\n",
        "    gmm = GaussianMixture(n_components=2, random_state=0)\n",
        "    gmm.fit(X[:, i].reshape(-1, 1))\n",
        "    X_gmm[:, i] = gmm.predict(X[:, i].reshape(-1, 1))\n",
        "\n",
        "# Step 2: Combine the original features with the GMM-labeled features\n",
        "X_combined = np.concatenate([X, X_gmm], axis=1)\n",
        "\n",
        "# Convert numpy arrays to PyTorch tensors\n",
        "# put input to X_combine if using preprocessing\n",
        "\n",
        "X_tensor = torch.tensor(X, dtype=torch.float)\n",
        "y_tensor = torch.tensor(y, dtype=torch.float)\n",
        "# create a TensorDataset\n",
        "dataset = TensorDataset(X_tensor, y_tensor)\n",
        "\n",
        "# define split sizes (90% train, 10% validation)\n",
        "train_size = int(0.9 * len(dataset))\n",
        "val_size = len(dataset) - train_size\n",
        "# Split the dataset into train and validation\n",
        "train_dataset, val_dataset = torch.utils.data.random_split(dataset, [train_size, val_size])\n"
      ]
    },
    {
      "cell_type": "markdown",
      "metadata": {
        "id": "-mnWrz_SSsdY"
      },
      "source": [
        "### Set Up Model"
      ]
    },
    {
      "cell_type": "code",
      "execution_count": 5,
      "metadata": {
        "id": "RXWdS9DwSsdY"
      },
      "outputs": [],
      "source": [
        "import torch.nn as nn\n",
        "import torch.optim as optim\n",
        "import torch.nn.functional as F\n",
        "\n",
        "# build model for training\n",
        "class MLP(nn.Module):\n",
        "    def __init__(self, input_size=15, hidden_size=128, output_size=1):\n",
        "        super(MLP, self).__init__()\n",
        "\n",
        "        self.layer1 = nn.Linear(input_size, hidden_size)\n",
        "        self.layer2 = nn.Linear(hidden_size, hidden_size*2)\n",
        "        self.layer3 = nn.Linear(hidden_size*2, hidden_size*2)\n",
        "        self.layer4 = nn.Linear(hidden_size*2, hidden_size)\n",
        "        self.layer5 = nn.Linear(hidden_size, output_size)\n",
        "\n",
        "    def forward(self, x):\n",
        "        x = F.relu(self.layer1(x))\n",
        "        x = F.relu(self.layer2(x))\n",
        "        x = F.relu(self.layer3(x))\n",
        "        x = F.relu(self.layer3(x))\n",
        "        x = F.relu(self.layer4(x))\n",
        "        x = torch.sigmoid(self.layer5(x))  # sigmoid activation for binary output\n",
        "        return x\n"
      ]
    },
    {
      "cell_type": "markdown",
      "metadata": {
        "id": "B3kxBRg4SsdY"
      },
      "source": [
        "### Train"
      ]
    },
    {
      "cell_type": "code",
      "execution_count": 6,
      "metadata": {
        "id": "oQOiFluRSsdY"
      },
      "outputs": [],
      "source": [
        "def train(model, train_loader, test_loader, loss_fn, optimizer, scheduler):\n",
        "    torch.manual_seed(42)\n",
        "    # set the number of epochs\n",
        "    epochs = 60\n",
        "    best_acc = 0\n",
        "\n",
        "    for epoch in range(epochs):\n",
        "        \"\"\" Training \"\"\"\n",
        "        model.train()\n",
        "\n",
        "        # forward pass\n",
        "        correct = 0\n",
        "        total = 0\n",
        "        train_loss = 0\n",
        "        for X_batch, y_batch in train_loader:\n",
        "            output = model(X_batch).squeeze()\n",
        "            y_preds = torch.round(output)\n",
        "\n",
        "            correct += torch.eq(y_preds, y_batch).sum().item()\n",
        "            total += len(y_batch)\n",
        "\n",
        "            loss = loss_fn(output, y_batch)\n",
        "            train_loss += loss.item()\n",
        "            # zero the optimizer\n",
        "            optimizer.zero_grad()\n",
        "            # backpropagattion\n",
        "            loss.backward()\n",
        "            # GD\n",
        "            optimizer.step()\n",
        "\n",
        "        scheduler.step()\n",
        "        train_acc = (correct / total) * 100\n",
        "\n",
        "        \"\"\" Testing \"\"\"\n",
        "        model.eval()\n",
        "        correct = 0\n",
        "        total = 0\n",
        "        test_loss = 0\n",
        "\n",
        "        fold_outputs = []\n",
        "        fold_labels = []\n",
        "\n",
        "        with torch.inference_mode():\n",
        "            for X_batch, y_batch in test_loader:\n",
        "                output = model(X_batch).squeeze()\n",
        "\n",
        "                # for calibration analysis\n",
        "                fold_outputs.extend(output.cpu().numpy())\n",
        "                fold_labels.extend(y_batch.cpu().numpy())\n",
        "\n",
        "                y_preds = torch.round(output)\n",
        "\n",
        "                correct += torch.eq(y_preds, y_batch).sum().item()\n",
        "                total += len(y_batch)\n",
        "\n",
        "                loss = loss_fn(output, y_batch)\n",
        "                test_loss += loss.item()\n",
        "\n",
        "            test_acc = (correct / total) * 100\n",
        "            if test_acc > best_acc:\n",
        "                best_acc = test_acc\n",
        "                torch.save(model.state_dict(), \"n-15best.pth\")\n",
        "\n",
        "        if epoch % 10 == 0:\n",
        "            print(f\"Epoch: {epoch} | Train Loss: {train_loss:.5f} | Acc: {train_acc:.2f}% | Learning Rate: {scheduler.get_last_lr()[0]:.7f} | Test loss: {test_loss:.5f} | Test Acc: {test_acc:.2f}%\")\n",
        "\n",
        "    return best_acc,fold_outputs,fold_labels"
      ]
    },
    {
      "cell_type": "code",
      "execution_count": null,
      "metadata": {
        "id": "76Rg0UqoSsdY"
      },
      "outputs": [],
      "source": [
        "# Set up 8-fold cross-validation on the training dataset\n",
        "kf = KFold(n_splits=8, shuffle=True, random_state=42)\n",
        "train_indices = list(range(len(train_dataset)))\n",
        "batch = 128\n",
        "accuracy = []\n",
        "\n",
        "all_outputs = []\n",
        "all_labels = []\n",
        "\n",
        "# Generate train-test splits\n",
        "for fold, (train_idx, test_idx) in enumerate(kf.split(train_indices)):\n",
        "    print(\"\\n\\nFold:\", fold)\n",
        "    \"\"\" create dataloaders for each fold \"\"\"\n",
        "    train_subset = Subset(train_dataset, train_idx)\n",
        "    test_subset = Subset(train_dataset, test_idx)\n",
        "    # Creating data loaders for each fold\n",
        "    train_loader = DataLoader(train_subset, batch_size=batch, shuffle=True)\n",
        "    test_loader = DataLoader(test_subset, batch_size=batch, shuffle=False)\n",
        "\n",
        "    \"\"\" initialize the model, loss function, and optimizer \"\"\"\n",
        "    model = MLP(input_size=X_tensor.shape[1], hidden_size=128, output_size=1)\n",
        "    loss_fn = nn.BCELoss()  # binary Cross-Entropy Loss\n",
        "    optimizer = optim.Adam(model.parameters(), lr=1e-4, weight_decay=1e-4)\n",
        "    scheduler = torch.optim.lr_scheduler.StepLR(optimizer, step_size=40, gamma=0.1)\n",
        "\n",
        "    \"\"\" train and test the model \"\"\"\n",
        "    acc, fold_outputs,fold_labels = train(model, train_loader, test_loader, loss_fn, optimizer, scheduler)\n",
        "    accuracy.append(acc)\n",
        "\n",
        "    all_outputs.extend(fold_outputs)  # Collect outputs from all folds\n",
        "    all_labels.extend(fold_labels)    # Collect labels from all folds\n",
        "\n",
        "print(\"\\nAverage Accuracy is:\", np.mean(accuracy))\n"
      ]
    },
    {
      "cell_type": "code",
      "execution_count": null,
      "metadata": {
        "colab": {
          "base_uri": "https://localhost:8080/",
          "height": 559
        },
        "id": "lAzxf79tXjec",
        "outputId": "b8de75c0-1126-4b17-e28c-dddc1356ef60"
      },
      "outputs": [
        {
          "name": "stdout",
          "output_type": "stream",
          "text": [
            "\n",
            "Average Accuracy is: 92.85925925925926\n",
            "Expected Calibration Error (ECE): 0.0175\n"
          ]
        },
        {
          "data": {
            "image/png": "[encoded data removed]",
            "text/plain": [
              "<Figure size 1000x500 with 2 Axes>"
            ]
          },
          "metadata": {},
          "output_type": "display_data"
        }
      ],
      "source": [
        "\n",
        "# Function to compute ECE\n",
        "def compute_ece(y_true, y_prob, n_bins=10):\n",
        "    bin_boundaries = np.linspace(0, 1, n_bins + 1)\n",
        "    ece = 0.0\n",
        "    bin_errors = []  # To store errors for plotting\n",
        "\n",
        "    for i in range(n_bins):\n",
        "        bin_lower = bin_boundaries[i]\n",
        "        bin_upper = bin_boundaries[i + 1]\n",
        "        bin_mask = (y_prob >= bin_lower) & (y_prob < bin_upper)\n",
        "        bin_size = np.sum(bin_mask)\n",
        "\n",
        "        if bin_size > 0:\n",
        "            avg_pred_prob = np.mean(y_prob[bin_mask])\n",
        "            fraction_positives = np.mean(y_true[bin_mask])\n",
        "            error = np.abs(avg_pred_prob - fraction_positives)\n",
        "            ece += (bin_size / len(y_true)) * error\n",
        "            bin_errors.append(error)\n",
        "        else:\n",
        "            bin_errors.append(0.0)\n",
        "\n",
        "    return ece, bin_errors\n",
        "\n",
        "# Compute ECE and get bin errors\n",
        "ece, bin_errors = compute_ece(np.array(all_labels), np.array(all_outputs))\n",
        "print(\"\\nAverage Accuracy is:\", np.mean(accuracy))\n",
        "print(f\"Expected Calibration Error (ECE): {ece:.4f}\")\n",
        "\n",
        "\n",
        "def plot_calibration_curve(y_true, y_prob):\n",
        "    prob_true, prob_pred = calibration_curve(y_true, y_prob, n_bins=10)\n",
        "\n",
        "    plt.figure(figsize=(8, 6))\n",
        "    plt.plot(prob_pred, prob_true, marker='o', label=\"Calibration Curve\")\n",
        "    plt.plot([0, 1], [0, 1], linestyle='--', label=\"Perfectly Calibrated\")\n",
        "    plt.xlabel(\"Mean Predicted Probability\")\n",
        "    plt.ylabel(\"Fraction of Positives\")\n",
        "    plt.title(\"Calibration Curve\")\n",
        "    plt.legend()\n",
        "    plt.show()\n",
        "# Plot Calibration Curve and ECE\n",
        "def plot_calibration_and_ece(y_true, y_prob, bin_errors, n_bins=10):\n",
        "    prob_true, prob_pred = calibration_curve(y_true, y_prob, n_bins=n_bins)\n",
        "\n",
        "    # Plot calibration curve\n",
        "    plt.figure(figsize=(10, 5))\n",
        "    plt.subplot(1, 2, 1)\n",
        "    plt.plot(prob_pred, prob_true, marker='o', label=\"Calibration Curve\")\n",
        "    plt.plot([0, 1], [0, 1], linestyle='--', label=\"Perfectly Calibrated\")\n",
        "    plt.xlabel(\"Mean Predicted Probability\")\n",
        "    plt.ylabel(\"Fraction of Positives\")\n",
        "    plt.title(\"Calibration Curve\")\n",
        "    plt.legend()\n",
        "\n",
        "    # Plot ECE as a bar plot\n",
        "    plt.subplot(1, 2, 2)\n",
        "    plt.bar(range(n_bins), bin_errors, width=0.8, color='blue', alpha=0.6)\n",
        "    plt.xlabel(\"Bins\")\n",
        "    plt.ylabel(\"Calibration Error\")\n",
        "    plt.title(\"Expected Calibration Error (ECE) per Bin\")\n",
        "    plt.tight_layout()\n",
        "    plt.show()\n",
        "# Plot calibration curve\n",
        "plot_calibration_and_ece(np.array(all_labels), np.array(all_outputs), bin_errors)"
      ]
    },
    {
      "cell_type": "code",
      "execution_count": null,
      "metadata": {
        "id": "jNaXAvputhO3"
      },
      "outputs": [],
      "source": [
        "torch.save(model.state_dict(), \"n-15best.pth\")"
      ]
    },
    {
      "cell_type": "markdown",
      "metadata": {
        "id": "uqe2YeqjSsdY"
      },
      "source": [
        "### Evaluation"
      ]
    },
    {
      "cell_type": "code",
      "execution_count": null,
      "metadata": {
        "colab": {
          "base_uri": "https://localhost:8080/"
        },
        "id": "8JyQA0vVSsdY",
        "outputId": "5074b390-4891-4e3c-bdbd-4ebfe85ef16d"
      },
      "outputs": [
        {
          "name": "stderr",
          "output_type": "stream",
          "text": [
            "<ipython-input-27-c468261dcc73>:2: FutureWarning: You are using `torch.load` with `weights_only=False` (the current default value), which uses the default pickle module implicitly. It is possible to construct malicious pickle data which will execute arbitrary code during unpickling (See https://github.com/pytorch/pytorch/blob/main/SECURITY.md#untrusted-models for more details). In a future release, the default value for `weights_only` will be flipped to `True`. This limits the functions that could be executed during unpickling. Arbitrary objects will no longer be allowed to be loaded via this mode unless they are explicitly allowlisted by the user via `torch.serialization.add_safe_globals`. We recommend you start setting `weights_only=True` for any use case where you don't have full control of the loaded file. Please open an issue on GitHub for any issues related to this experimental feature.\n",
            "  model.load_state_dict(torch.load(\"n-15best.pth\"))\n",
            "100%|██████████| 24/24 [00:02<00:00,  9.60it/s]"
          ]
        },
        {
          "name": "stdout",
          "output_type": "stream",
          "text": [
            "Test Loss: 5.29377 | Test Acc: 93.60%\n"
          ]
        },
        {
          "name": "stderr",
          "output_type": "stream",
          "text": [
            "\n"
          ]
        }
      ],
      "source": [
        "model = MLP(input_size=15, hidden_size=128, output_size=1)\n",
        "model.load_state_dict(torch.load(\"n-15best.pth\"))\n",
        "model.eval()\n",
        "\n",
        "val_loader = DataLoader(val_dataset, batch_size=batch, shuffle=False)\n",
        "\n",
        "correct = 0\n",
        "total = 0\n",
        "val_loss = 0\n",
        "with torch.inference_mode():\n",
        "    for X_batch, y_batch in tqdm(val_loader):\n",
        "        output = model(X_batch).squeeze()\n",
        "        y_preds = torch.round(output)\n",
        "\n",
        "        correct += torch.eq(y_preds, y_batch).sum().item()\n",
        "        total += len(y_batch)\n",
        "\n",
        "        loss = loss_fn(output, y_batch)\n",
        "        val_loss += loss.item()\n",
        "\n",
        "    val_acc = (correct / total) * 100\n",
        "\n",
        "print(f\"Test Loss: {val_loss:.5f} | Test Acc: {val_acc:.2f}%\")"
      ]
    },
    {
      "cell_type": "code",
      "execution_count": null,
      "metadata": {
        "id": "QHgxLcpVYJZu"
      },
      "outputs": [],
      "source": []
    }
  ],
  "metadata": {
    "colab": {
      "provenance": []
    },
    "kernelspec": {
      "display_name": "yolo",
      "language": "python",
      "name": "python3"
    },
    "language_info": {
      "codemirror_mode": {
        "name": "ipython",
        "version": 3
      },
      "file_extension": ".py",
      "mimetype": "text/x-python",
      "name": "python",
      "nbconvert_exporter": "python",
      "pygments_lexer": "ipython3",
      "version": "3.9.17"
    }
  },
  "nbformat": 4,
  "nbformat_minor": 0
}
