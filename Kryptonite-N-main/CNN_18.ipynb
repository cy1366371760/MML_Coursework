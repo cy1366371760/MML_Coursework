{
 "cells": [
  {
   "cell_type": "markdown",
   "metadata": {},
   "source": [
    "## N = 15"
   ]
  },
  {
   "cell_type": "code",
   "execution_count": 1,
   "metadata": {},
   "outputs": [
    {
     "name": "stdout",
     "output_type": "stream",
     "text": [
      "True\n"
     ]
    },
    {
     "data": {
      "text/plain": [
       "(30000, 15)"
      ]
     },
     "execution_count": 1,
     "metadata": {},
     "output_type": "execute_result"
    }
   ],
   "source": [
    "import numpy as np\n",
    "import torch\n",
    "\n",
    "print(torch.cuda.is_available())\n",
    "\n",
    "# load date\n",
    "X = np.load(\"Datasets/kryptonite-15-X.npy\")\n",
    "X.shape"
   ]
  },
  {
   "cell_type": "markdown",
   "metadata": {},
   "source": []
  },
  {
   "cell_type": "code",
   "execution_count": 2,
   "metadata": {},
   "outputs": [
    {
     "data": {
      "text/plain": [
       "(30000,)"
      ]
     },
     "execution_count": 2,
     "metadata": {},
     "output_type": "execute_result"
    }
   ],
   "source": [
    "y = np.load(\"Datasets/kryptonite-15-y.npy\")\n",
    "y.shape\n",
    "\n",
    "#X = np.load(\"Datasets/kryptonite-18-X.npy\"), y = np.load(\"Datasets/kryptonite-18-y.npy\") shape of X = (36000, 18), y = (36000), 36000 samples, 18 features, 1 target\n",
    "#I want to calculate the heat map of the correlation between the features and the target"
   ]
  },
  {
   "cell_type": "code",
   "execution_count": null,
   "metadata": {},
   "outputs": [
    {
     "name": "stderr",
     "output_type": "stream",
     "text": [
      "  0%|          | 0/282 [00:00<?, ?it/s]\n"
     ]
    },
    {
     "name": "stdout",
     "output_type": "stream",
     "text": [
      "torch.Size([64, 15]) torch.Size([64])\n",
      "\n",
      "Epoch 1/100\n"
     ]
    },
    {
     "name": "stderr",
     "output_type": "stream",
     "text": [
      "Training: 100%|██████████| 282/282 [00:01<00:00, 175.29it/s, loss=0.6934, acc=50.36%]\n",
      "Validation: 100%|██████████| 94/94 [00:00<00:00, 470.81it/s, loss=0.6931, acc=50.02%]\n"
     ]
    },
    {
     "name": "stdout",
     "output_type": "stream",
     "text": [
      "Train Loss: 0.6934 | Train Acc: 50.36%\n",
      "Val Loss: 0.6931 | Val Acc: 50.02%\n",
      "Saved best model!\n",
      "\n",
      "Epoch 2/100\n"
     ]
    },
    {
     "name": "stderr",
     "output_type": "stream",
     "text": [
      "Training: 100%|██████████| 282/282 [00:00<00:00, 287.12it/s, loss=0.6933, acc=49.87%]\n",
      "Validation: 100%|██████████| 94/94 [00:00<00:00, 487.98it/s, loss=0.6932, acc=49.98%]\n"
     ]
    },
    {
     "name": "stdout",
     "output_type": "stream",
     "text": [
      "Train Loss: 0.6933 | Train Acc: 49.87%\n",
      "Val Loss: 0.6932 | Val Acc: 49.98%\n",
      "\n",
      "Epoch 3/100\n"
     ]
    },
    {
     "name": "stderr",
     "output_type": "stream",
     "text": [
      "Training: 100%|██████████| 282/282 [00:00<00:00, 287.55it/s, loss=0.6932, acc=50.37%]\n",
      "Validation: 100%|██████████| 94/94 [00:00<00:00, 566.80it/s, loss=0.6932, acc=50.02%]\n"
     ]
    },
    {
     "name": "stdout",
     "output_type": "stream",
     "text": [
      "Train Loss: 0.6932 | Train Acc: 50.37%\n",
      "Val Loss: 0.6932 | Val Acc: 50.02%\n",
      "\n",
      "Epoch 4/100\n"
     ]
    },
    {
     "name": "stderr",
     "output_type": "stream",
     "text": [
      "Training: 100%|██████████| 282/282 [00:00<00:00, 286.35it/s, loss=0.6931, acc=50.65%]\n",
      "Validation: 100%|██████████| 94/94 [00:00<00:00, 549.35it/s, loss=0.6931, acc=49.97%]\n"
     ]
    },
    {
     "name": "stdout",
     "output_type": "stream",
     "text": [
      "Train Loss: 0.6931 | Train Acc: 50.65%\n",
      "Val Loss: 0.6931 | Val Acc: 49.97%\n",
      "\n",
      "Epoch 5/100\n"
     ]
    },
    {
     "name": "stderr",
     "output_type": "stream",
     "text": [
      "Training: 100%|██████████| 282/282 [00:00<00:00, 288.63it/s, loss=0.6931, acc=50.45%]\n",
      "Validation: 100%|██████████| 94/94 [00:00<00:00, 450.93it/s, loss=0.6932, acc=51.57%]\n"
     ]
    },
    {
     "name": "stdout",
     "output_type": "stream",
     "text": [
      "Train Loss: 0.6931 | Train Acc: 50.45%\n",
      "Val Loss: 0.6932 | Val Acc: 51.57%\n",
      "Saved best model!\n",
      "\n",
      "Epoch 6/100\n"
     ]
    },
    {
     "name": "stderr",
     "output_type": "stream",
     "text": [
      "Training: 100%|██████████| 282/282 [00:00<00:00, 293.01it/s, loss=0.6931, acc=50.31%]\n",
      "Validation: 100%|██████████| 94/94 [00:00<00:00, 546.78it/s, loss=0.6932, acc=50.32%]\n"
     ]
    },
    {
     "name": "stdout",
     "output_type": "stream",
     "text": [
      "Train Loss: 0.6931 | Train Acc: 50.31%\n",
      "Val Loss: 0.6932 | Val Acc: 50.32%\n",
      "\n",
      "Epoch 7/100\n"
     ]
    },
    {
     "name": "stderr",
     "output_type": "stream",
     "text": [
      "Training: 100%|██████████| 282/282 [00:01<00:00, 271.88it/s, loss=0.6928, acc=51.34%]\n",
      "Validation: 100%|██████████| 94/94 [00:00<00:00, 524.63it/s, loss=0.6932, acc=50.20%]\n"
     ]
    },
    {
     "name": "stdout",
     "output_type": "stream",
     "text": [
      "Train Loss: 0.6928 | Train Acc: 51.34%\n",
      "Val Loss: 0.6932 | Val Acc: 50.20%\n",
      "\n",
      "Epoch 8/100\n"
     ]
    },
    {
     "name": "stderr",
     "output_type": "stream",
     "text": [
      "Training: 100%|██████████| 282/282 [00:00<00:00, 292.72it/s, loss=0.6925, acc=51.43%]\n",
      "Validation: 100%|██████████| 94/94 [00:00<00:00, 549.27it/s, loss=0.6936, acc=50.35%]\n"
     ]
    },
    {
     "name": "stdout",
     "output_type": "stream",
     "text": [
      "Train Loss: 0.6925 | Train Acc: 51.43%\n",
      "Val Loss: 0.6936 | Val Acc: 50.35%\n",
      "\n",
      "Epoch 9/100\n"
     ]
    },
    {
     "name": "stderr",
     "output_type": "stream",
     "text": [
      "Training: 100%|██████████| 282/282 [00:00<00:00, 286.68it/s, loss=0.6925, acc=51.05%]\n",
      "Validation: 100%|██████████| 94/94 [00:00<00:00, 558.94it/s, loss=0.6939, acc=49.68%]\n"
     ]
    },
    {
     "name": "stdout",
     "output_type": "stream",
     "text": [
      "Train Loss: 0.6925 | Train Acc: 51.05%\n",
      "Val Loss: 0.6939 | Val Acc: 49.68%\n",
      "\n",
      "Epoch 10/100\n"
     ]
    },
    {
     "name": "stderr",
     "output_type": "stream",
     "text": [
      "Training: 100%|██████████| 282/282 [00:00<00:00, 295.58it/s, loss=0.6922, acc=52.32%]\n",
      "Validation: 100%|██████████| 94/94 [00:00<00:00, 547.79it/s, loss=0.6940, acc=49.82%]\n"
     ]
    },
    {
     "name": "stdout",
     "output_type": "stream",
     "text": [
      "Train Loss: 0.6922 | Train Acc: 52.32%\n",
      "Val Loss: 0.6940 | Val Acc: 49.82%\n",
      "\n",
      "Epoch 11/100\n"
     ]
    },
    {
     "name": "stderr",
     "output_type": "stream",
     "text": [
      "Training: 100%|██████████| 282/282 [00:00<00:00, 288.66it/s, loss=0.6919, acc=52.09%]\n",
      "Validation: 100%|██████████| 94/94 [00:00<00:00, 553.22it/s, loss=0.6939, acc=50.38%]\n"
     ]
    },
    {
     "name": "stdout",
     "output_type": "stream",
     "text": [
      "Train Loss: 0.6919 | Train Acc: 52.09%\n",
      "Val Loss: 0.6939 | Val Acc: 50.38%\n",
      "\n",
      "Epoch 12/100\n"
     ]
    },
    {
     "name": "stderr",
     "output_type": "stream",
     "text": [
      "Training: 100%|██████████| 282/282 [00:00<00:00, 298.74it/s, loss=0.6914, acc=52.49%]\n",
      "Validation: 100%|██████████| 94/94 [00:00<00:00, 470.26it/s, loss=0.6938, acc=50.82%]\n"
     ]
    },
    {
     "name": "stdout",
     "output_type": "stream",
     "text": [
      "Train Loss: 0.6914 | Train Acc: 52.49%\n",
      "Val Loss: 0.6938 | Val Acc: 50.82%\n",
      "\n",
      "Epoch 13/100\n"
     ]
    },
    {
     "name": "stderr",
     "output_type": "stream",
     "text": [
      "Training: 100%|██████████| 282/282 [00:00<00:00, 296.21it/s, loss=0.6912, acc=52.80%]\n",
      "Validation: 100%|██████████| 94/94 [00:00<00:00, 521.93it/s, loss=0.6952, acc=50.97%]\n"
     ]
    },
    {
     "name": "stdout",
     "output_type": "stream",
     "text": [
      "Train Loss: 0.6912 | Train Acc: 52.80%\n",
      "Val Loss: 0.6952 | Val Acc: 50.97%\n",
      "\n",
      "Epoch 14/100\n"
     ]
    },
    {
     "name": "stderr",
     "output_type": "stream",
     "text": [
      "Training: 100%|██████████| 282/282 [00:00<00:00, 282.18it/s, loss=0.6911, acc=52.83%]\n",
      "Validation: 100%|██████████| 94/94 [00:00<00:00, 552.42it/s, loss=0.6940, acc=50.75%]\n"
     ]
    },
    {
     "name": "stdout",
     "output_type": "stream",
     "text": [
      "Train Loss: 0.6911 | Train Acc: 52.83%\n",
      "Val Loss: 0.6940 | Val Acc: 50.75%\n",
      "\n",
      "Epoch 15/100\n"
     ]
    },
    {
     "name": "stderr",
     "output_type": "stream",
     "text": [
      "Training: 100%|██████████| 282/282 [00:00<00:00, 294.62it/s, loss=0.6908, acc=52.57%]\n",
      "Validation: 100%|██████████| 94/94 [00:00<00:00, 539.66it/s, loss=0.6941, acc=51.42%]\n"
     ]
    },
    {
     "name": "stdout",
     "output_type": "stream",
     "text": [
      "Train Loss: 0.6908 | Train Acc: 52.57%\n",
      "Val Loss: 0.6941 | Val Acc: 51.42%\n",
      "\n",
      "Epoch 16/100\n"
     ]
    },
    {
     "name": "stderr",
     "output_type": "stream",
     "text": [
      "Training: 100%|██████████| 282/282 [00:00<00:00, 289.21it/s, loss=0.6908, acc=53.31%]\n",
      "Validation: 100%|██████████| 94/94 [00:00<00:00, 519.33it/s, loss=0.6945, acc=51.20%]\n"
     ]
    },
    {
     "name": "stdout",
     "output_type": "stream",
     "text": [
      "Train Loss: 0.6908 | Train Acc: 53.31%\n",
      "Val Loss: 0.6945 | Val Acc: 51.20%\n",
      "\n",
      "Epoch 17/100\n"
     ]
    },
    {
     "name": "stderr",
     "output_type": "stream",
     "text": [
      "Training: 100%|██████████| 282/282 [00:00<00:00, 298.31it/s, loss=0.6899, acc=53.76%]\n",
      "Validation: 100%|██████████| 94/94 [00:00<00:00, 489.69it/s, loss=0.6959, acc=50.83%]\n"
     ]
    },
    {
     "name": "stdout",
     "output_type": "stream",
     "text": [
      "Train Loss: 0.6899 | Train Acc: 53.76%\n",
      "Val Loss: 0.6959 | Val Acc: 50.83%\n",
      "\n",
      "Epoch 18/100\n"
     ]
    },
    {
     "name": "stderr",
     "output_type": "stream",
     "text": [
      "Training: 100%|██████████| 282/282 [00:00<00:00, 296.99it/s, loss=0.6898, acc=53.52%]\n",
      "Validation: 100%|██████████| 94/94 [00:00<00:00, 571.34it/s, loss=0.6957, acc=51.03%]\n"
     ]
    },
    {
     "name": "stdout",
     "output_type": "stream",
     "text": [
      "Train Loss: 0.6898 | Train Acc: 53.52%\n",
      "Val Loss: 0.6957 | Val Acc: 51.03%\n",
      "\n",
      "Epoch 19/100\n"
     ]
    },
    {
     "name": "stderr",
     "output_type": "stream",
     "text": [
      "Training: 100%|██████████| 282/282 [00:00<00:00, 287.81it/s, loss=0.6893, acc=54.00%]\n",
      "Validation: 100%|██████████| 94/94 [00:00<00:00, 545.33it/s, loss=0.6952, acc=50.50%]\n"
     ]
    },
    {
     "name": "stdout",
     "output_type": "stream",
     "text": [
      "Train Loss: 0.6893 | Train Acc: 54.00%\n",
      "Val Loss: 0.6952 | Val Acc: 50.50%\n",
      "\n",
      "Epoch 20/100\n"
     ]
    },
    {
     "name": "stderr",
     "output_type": "stream",
     "text": [
      "Training: 100%|██████████| 282/282 [00:00<00:00, 295.66it/s, loss=0.6888, acc=53.98%]\n",
      "Validation: 100%|██████████| 94/94 [00:00<00:00, 537.61it/s, loss=0.6957, acc=50.73%]\n"
     ]
    },
    {
     "name": "stdout",
     "output_type": "stream",
     "text": [
      "Train Loss: 0.6888 | Train Acc: 53.98%\n",
      "Val Loss: 0.6957 | Val Acc: 50.73%\n",
      "\n",
      "Epoch 21/100\n"
     ]
    },
    {
     "name": "stderr",
     "output_type": "stream",
     "text": [
      "Training: 100%|██████████| 282/282 [00:00<00:00, 291.11it/s, loss=0.6883, acc=54.23%]\n",
      "Validation: 100%|██████████| 94/94 [00:00<00:00, 550.18it/s, loss=0.6965, acc=50.35%]\n"
     ]
    },
    {
     "name": "stdout",
     "output_type": "stream",
     "text": [
      "Train Loss: 0.6883 | Train Acc: 54.23%\n",
      "Val Loss: 0.6965 | Val Acc: 50.35%\n",
      "\n",
      "Epoch 22/100\n"
     ]
    },
    {
     "name": "stderr",
     "output_type": "stream",
     "text": [
      "Training: 100%|██████████| 282/282 [00:00<00:00, 296.02it/s, loss=0.6878, acc=54.61%]\n",
      "Validation: 100%|██████████| 94/94 [00:00<00:00, 517.25it/s, loss=0.6974, acc=50.83%]\n"
     ]
    },
    {
     "name": "stdout",
     "output_type": "stream",
     "text": [
      "Train Loss: 0.6878 | Train Acc: 54.61%\n",
      "Val Loss: 0.6974 | Val Acc: 50.83%\n",
      "\n",
      "Epoch 23/100\n"
     ]
    },
    {
     "name": "stderr",
     "output_type": "stream",
     "text": [
      "Training: 100%|██████████| 282/282 [00:00<00:00, 284.23it/s, loss=0.6873, acc=54.83%]\n",
      "Validation: 100%|██████████| 94/94 [00:00<00:00, 546.39it/s, loss=0.6966, acc=51.42%]\n"
     ]
    },
    {
     "name": "stdout",
     "output_type": "stream",
     "text": [
      "Train Loss: 0.6873 | Train Acc: 54.83%\n",
      "Val Loss: 0.6966 | Val Acc: 51.42%\n",
      "\n",
      "Epoch 24/100\n"
     ]
    },
    {
     "name": "stderr",
     "output_type": "stream",
     "text": [
      "Training: 100%|██████████| 282/282 [00:00<00:00, 297.21it/s, loss=0.6869, acc=54.70%]\n",
      "Validation: 100%|██████████| 94/94 [00:00<00:00, 460.08it/s, loss=0.6962, acc=50.58%]\n"
     ]
    },
    {
     "name": "stdout",
     "output_type": "stream",
     "text": [
      "Train Loss: 0.6869 | Train Acc: 54.70%\n",
      "Val Loss: 0.6962 | Val Acc: 50.58%\n",
      "\n",
      "Epoch 25/100\n"
     ]
    },
    {
     "name": "stderr",
     "output_type": "stream",
     "text": [
      "Training: 100%|██████████| 282/282 [00:00<00:00, 288.72it/s, loss=0.6861, acc=55.13%]\n",
      "Validation: 100%|██████████| 94/94 [00:00<00:00, 546.29it/s, loss=0.6964, acc=51.05%]\n"
     ]
    },
    {
     "name": "stdout",
     "output_type": "stream",
     "text": [
      "Train Loss: 0.6861 | Train Acc: 55.13%\n",
      "Val Loss: 0.6964 | Val Acc: 51.05%\n",
      "\n",
      "Epoch 26/100\n"
     ]
    },
    {
     "name": "stderr",
     "output_type": "stream",
     "text": [
      "Training: 100%|██████████| 282/282 [00:00<00:00, 286.01it/s, loss=0.6851, acc=55.35%]\n",
      "Validation: 100%|██████████| 94/94 [00:00<00:00, 558.22it/s, loss=0.6991, acc=50.15%]\n"
     ]
    },
    {
     "name": "stdout",
     "output_type": "stream",
     "text": [
      "Train Loss: 0.6851 | Train Acc: 55.35%\n",
      "Val Loss: 0.6991 | Val Acc: 50.15%\n",
      "\n",
      "Epoch 27/100\n"
     ]
    },
    {
     "name": "stderr",
     "output_type": "stream",
     "text": [
      "Training: 100%|██████████| 282/282 [00:00<00:00, 298.53it/s, loss=0.6846, acc=55.82%]\n",
      "Validation: 100%|██████████| 94/94 [00:00<00:00, 534.29it/s, loss=0.6987, acc=50.63%]\n"
     ]
    },
    {
     "name": "stdout",
     "output_type": "stream",
     "text": [
      "Train Loss: 0.6846 | Train Acc: 55.82%\n",
      "Val Loss: 0.6987 | Val Acc: 50.63%\n",
      "\n",
      "Epoch 28/100\n"
     ]
    },
    {
     "name": "stderr",
     "output_type": "stream",
     "text": [
      "Training: 100%|██████████| 282/282 [00:00<00:00, 289.27it/s, loss=0.6836, acc=55.99%]\n",
      "Validation: 100%|██████████| 94/94 [00:00<00:00, 543.67it/s, loss=0.7001, acc=51.00%]\n"
     ]
    },
    {
     "name": "stdout",
     "output_type": "stream",
     "text": [
      "Train Loss: 0.6836 | Train Acc: 55.99%\n",
      "Val Loss: 0.7001 | Val Acc: 51.00%\n",
      "\n",
      "Epoch 29/100\n"
     ]
    },
    {
     "name": "stderr",
     "output_type": "stream",
     "text": [
      "Training: 100%|██████████| 282/282 [00:00<00:00, 296.59it/s, loss=0.6825, acc=56.24%]\n",
      "Validation: 100%|██████████| 94/94 [00:00<00:00, 555.95it/s, loss=0.6990, acc=51.78%]\n"
     ]
    },
    {
     "name": "stdout",
     "output_type": "stream",
     "text": [
      "Train Loss: 0.6825 | Train Acc: 56.24%\n",
      "Val Loss: 0.6990 | Val Acc: 51.78%\n",
      "Saved best model!\n",
      "\n",
      "Epoch 30/100\n"
     ]
    },
    {
     "name": "stderr",
     "output_type": "stream",
     "text": [
      "Training: 100%|██████████| 282/282 [00:00<00:00, 284.09it/s, loss=0.6811, acc=56.47%]\n",
      "Validation: 100%|██████████| 94/94 [00:00<00:00, 513.92it/s, loss=0.7000, acc=50.98%]\n"
     ]
    },
    {
     "name": "stdout",
     "output_type": "stream",
     "text": [
      "Train Loss: 0.6811 | Train Acc: 56.47%\n",
      "Val Loss: 0.7000 | Val Acc: 50.98%\n",
      "\n",
      "Epoch 31/100\n"
     ]
    },
    {
     "name": "stderr",
     "output_type": "stream",
     "text": [
      "Training: 100%|██████████| 282/282 [00:01<00:00, 265.61it/s, loss=0.6804, acc=56.84%]\n",
      "Validation: 100%|██████████| 94/94 [00:00<00:00, 569.12it/s, loss=0.7026, acc=50.70%]\n"
     ]
    },
    {
     "name": "stdout",
     "output_type": "stream",
     "text": [
      "Train Loss: 0.6804 | Train Acc: 56.84%\n",
      "Val Loss: 0.7026 | Val Acc: 50.70%\n",
      "\n",
      "Epoch 32/100\n"
     ]
    },
    {
     "name": "stderr",
     "output_type": "stream",
     "text": [
      "Training: 100%|██████████| 282/282 [00:00<00:00, 296.92it/s, loss=0.6786, acc=57.58%]\n",
      "Validation: 100%|██████████| 94/94 [00:00<00:00, 552.91it/s, loss=0.7036, acc=50.98%]\n"
     ]
    },
    {
     "name": "stdout",
     "output_type": "stream",
     "text": [
      "Train Loss: 0.6786 | Train Acc: 57.58%\n",
      "Val Loss: 0.7036 | Val Acc: 50.98%\n",
      "\n",
      "Epoch 33/100\n"
     ]
    },
    {
     "name": "stderr",
     "output_type": "stream",
     "text": [
      "Training: 100%|██████████| 282/282 [00:00<00:00, 287.05it/s, loss=0.6776, acc=57.66%]\n",
      "Validation: 100%|██████████| 94/94 [00:00<00:00, 544.98it/s, loss=0.7023, acc=50.95%]\n"
     ]
    },
    {
     "name": "stdout",
     "output_type": "stream",
     "text": [
      "Train Loss: 0.6776 | Train Acc: 57.66%\n",
      "Val Loss: 0.7023 | Val Acc: 50.95%\n",
      "\n",
      "Epoch 34/100\n"
     ]
    },
    {
     "name": "stderr",
     "output_type": "stream",
     "text": [
      "Training: 100%|██████████| 282/282 [00:00<00:00, 291.19it/s, loss=0.6763, acc=57.91%]\n",
      "Validation: 100%|██████████| 94/94 [00:00<00:00, 562.56it/s, loss=0.7041, acc=50.82%]\n"
     ]
    },
    {
     "name": "stdout",
     "output_type": "stream",
     "text": [
      "Train Loss: 0.6763 | Train Acc: 57.91%\n",
      "Val Loss: 0.7041 | Val Acc: 50.82%\n",
      "\n",
      "Epoch 35/100\n"
     ]
    },
    {
     "name": "stderr",
     "output_type": "stream",
     "text": [
      "Training: 100%|██████████| 282/282 [00:01<00:00, 279.61it/s, loss=0.6733, acc=58.17%]\n",
      "Validation: 100%|██████████| 94/94 [00:00<00:00, 546.89it/s, loss=0.7078, acc=50.63%]\n"
     ]
    },
    {
     "name": "stdout",
     "output_type": "stream",
     "text": [
      "Train Loss: 0.6733 | Train Acc: 58.17%\n",
      "Val Loss: 0.7078 | Val Acc: 50.63%\n",
      "\n",
      "Epoch 36/100\n"
     ]
    },
    {
     "name": "stderr",
     "output_type": "stream",
     "text": [
      "Training: 100%|██████████| 282/282 [00:00<00:00, 292.78it/s, loss=0.6725, acc=58.30%]\n",
      "Validation: 100%|██████████| 94/94 [00:00<00:00, 498.72it/s, loss=0.7109, acc=50.97%]\n"
     ]
    },
    {
     "name": "stdout",
     "output_type": "stream",
     "text": [
      "Train Loss: 0.6725 | Train Acc: 58.30%\n",
      "Val Loss: 0.7109 | Val Acc: 50.97%\n",
      "\n",
      "Epoch 37/100\n"
     ]
    },
    {
     "name": "stderr",
     "output_type": "stream",
     "text": [
      "Training: 100%|██████████| 282/282 [00:00<00:00, 291.87it/s, loss=0.6711, acc=58.91%]\n",
      "Validation: 100%|██████████| 94/94 [00:00<00:00, 559.62it/s, loss=0.7162, acc=50.87%]\n"
     ]
    },
    {
     "name": "stdout",
     "output_type": "stream",
     "text": [
      "Train Loss: 0.6711 | Train Acc: 58.91%\n",
      "Val Loss: 0.7162 | Val Acc: 50.87%\n",
      "\n",
      "Epoch 38/100\n"
     ]
    },
    {
     "name": "stderr",
     "output_type": "stream",
     "text": [
      "Training: 100%|██████████| 282/282 [00:00<00:00, 290.09it/s, loss=0.6690, acc=58.78%]\n",
      "Validation: 100%|██████████| 94/94 [00:00<00:00, 562.13it/s, loss=0.7089, acc=50.72%]\n"
     ]
    },
    {
     "name": "stdout",
     "output_type": "stream",
     "text": [
      "Train Loss: 0.6690 | Train Acc: 58.78%\n",
      "Val Loss: 0.7089 | Val Acc: 50.72%\n",
      "\n",
      "Epoch 39/100\n"
     ]
    },
    {
     "name": "stderr",
     "output_type": "stream",
     "text": [
      "Training: 100%|██████████| 282/282 [00:00<00:00, 294.88it/s, loss=0.6683, acc=59.17%]\n",
      "Validation: 100%|██████████| 94/94 [00:00<00:00, 538.56it/s, loss=0.7119, acc=50.73%]\n"
     ]
    },
    {
     "name": "stdout",
     "output_type": "stream",
     "text": [
      "Train Loss: 0.6683 | Train Acc: 59.17%\n",
      "Val Loss: 0.7119 | Val Acc: 50.73%\n",
      "\n",
      "Epoch 40/100\n"
     ]
    },
    {
     "name": "stderr",
     "output_type": "stream",
     "text": [
      "Training: 100%|██████████| 282/282 [00:01<00:00, 275.68it/s, loss=0.6655, acc=59.62%]\n",
      "Validation: 100%|██████████| 94/94 [00:00<00:00, 539.77it/s, loss=0.7130, acc=50.83%]\n"
     ]
    },
    {
     "name": "stdout",
     "output_type": "stream",
     "text": [
      "Train Loss: 0.6655 | Train Acc: 59.62%\n",
      "Val Loss: 0.7130 | Val Acc: 50.83%\n",
      "\n",
      "Epoch 41/100\n"
     ]
    },
    {
     "name": "stderr",
     "output_type": "stream",
     "text": [
      "Training: 100%|██████████| 282/282 [00:00<00:00, 296.68it/s, loss=0.6634, acc=59.94%]\n",
      "Validation: 100%|██████████| 94/94 [00:00<00:00, 543.39it/s, loss=0.7174, acc=50.65%]\n"
     ]
    },
    {
     "name": "stdout",
     "output_type": "stream",
     "text": [
      "Train Loss: 0.6634 | Train Acc: 59.94%\n",
      "Val Loss: 0.7174 | Val Acc: 50.65%\n",
      "\n",
      "Epoch 42/100\n"
     ]
    },
    {
     "name": "stderr",
     "output_type": "stream",
     "text": [
      "Training:  51%|█████     | 143/282 [00:00<00:00, 287.10it/s, loss=0.6621, acc=60.14%]"
     ]
    }
   ],
   "source": [
    "import numpy as np\n",
    "import torch\n",
    "from tqdm import tqdm\n",
    "from torch.utils.data import TensorDataset, DataLoader, random_split\n",
    "import torch.nn as nn\n",
    "import torch.optim as optim\n",
    "import torch.nn.functional as F\n",
    "from torchvision import models\n",
    "\n",
    "# Convert numpy arrays to PyTorch tensors\n",
    "X_tensor = torch.tensor(X, dtype=torch.float)\n",
    "y_tensor = torch.tensor(y, dtype=torch.float)\n",
    "\n",
    "# create a TensorDataset\n",
    "dataset = TensorDataset(X_tensor, y_tensor)\n",
    "\n",
    "# define split sizes (60% train, 20% validation, 20% test)\n",
    "train_size = int(0.6 * len(dataset))\n",
    "val_size = int(0.2 * len(dataset))\n",
    "test_size = len(dataset) - train_size - val_size\n",
    "\n",
    "# Split the dataset into train, validation, and test\n",
    "train_dataset, val_dataset, test_dataset = random_split(dataset, [train_size, val_size, test_size])\n",
    "\n",
    "# Create DataLoaders for each subset\n",
    "batch_size = 64\n",
    "train_loader = DataLoader(train_dataset, batch_size=batch_size, shuffle=True)\n",
    "val_loader = DataLoader(val_dataset, batch_size=batch_size, shuffle=False)\n",
    "test_loader = DataLoader(test_dataset, batch_size=batch_size, shuffle=False)\n",
    "\n",
    "# check data loader output\n",
    "for X_batch, y_batch in tqdm(train_loader):\n",
    "    # Reshape X_batch to have a single channel  # Add a channel dimension\n",
    "    print(X_batch.shape, y_batch.shape)  # X_batch is of shape [batch_size, 1, 15]\n",
    "    break\n",
    "\n",
    "class SimpleCNNModel(nn.Module):\n",
    "    def __init__(self):\n",
    "        super(SimpleCNNModel, self).__init__()\n",
    "        self.conv1 = nn.Conv1d(in_channels=1, out_channels=32, kernel_size=3, padding=1)\n",
    "        self.pool1 = nn.MaxPool1d(kernel_size=2)\n",
    "        self.conv2 = nn.Conv1d(in_channels=32, out_channels=64, kernel_size=3, padding=1)\n",
    "        self.pool2 = nn.MaxPool1d(kernel_size=2)\n",
    "        self.conv3 = nn.Conv1d(in_channels=64, out_channels=128, kernel_size=3, padding=1)\n",
    "        self.pool3 = nn.MaxPool1d(kernel_size=2)\n",
    "        self.fc1 = nn.Linear(in_features=128 * 1, out_features=64)\n",
    "        self.dropout = nn.Dropout(p=0.2)\n",
    "        self.fc2 = nn.Linear(in_features=64, out_features=1)\n",
    "        self.sigmoid = nn.Sigmoid()\n",
    "\n",
    "    def forward(self, x):\n",
    "        x = self.conv1(x)\n",
    "        x = F.relu(x)\n",
    "        x = self.pool1(x)\n",
    "        x = self.conv2(x)\n",
    "        x = F.relu(x)\n",
    "        x = self.pool2(x)\n",
    "        x = self.conv3(x)\n",
    "        x = F.relu(x)\n",
    "        x = self.pool3(x)\n",
    "        x = x.view(x.size(0), -1)  # Flatten the feature maps\n",
    "        x = self.fc1(x)\n",
    "        x = F.relu(x)\n",
    "        x = self.dropout(x)\n",
    "        x = self.fc2(x)\n",
    "        x = self.sigmoid(x)\n",
    "        return x\n",
    "\n",
    "# initialize the model, loss function, and optimizer\n",
    "# Initialize the ResNet18 model\n",
    "# model = CustomResNet18()\n",
    "# criterion = nn.BCELoss()  # 使用二元交叉熵损失\n",
    "# optimizer = torch.optim.Adam(model.parameters(), lr=0.001)\n",
    "\n",
    "\n",
    "def train_epoch(model, train_loader, criterion, optimizer, device):\n",
    "    model.train()\n",
    "    total_loss = 0\n",
    "    correct = 0\n",
    "    total = 0\n",
    "    \n",
    "    # 使用tqdm显示进度条\n",
    "    train_pbar = tqdm(train_loader, desc='Training')\n",
    "    for batch_idx, (inputs, targets) in enumerate(train_pbar):\n",
    "        inputs, targets = inputs.to(device), targets.to(device)\n",
    "        inputs = inputs.view(inputs.size(0), 1, -1)\n",
    "        # print(inputs.shape)\n",
    "        \n",
    "        optimizer.zero_grad()\n",
    "        outputs = model(inputs).squeeze()\n",
    "        loss = criterion(outputs, targets)\n",
    "        \n",
    "        loss.backward()\n",
    "        optimizer.step()\n",
    "        \n",
    "        total_loss += loss.item()\n",
    "        \n",
    "        # 计算准确率\n",
    "        predictions = (outputs >= 0.5).float()\n",
    "        correct += (predictions == targets).sum().item()\n",
    "        total += targets.size(0)\n",
    "        \n",
    "        # 更新进度条信息\n",
    "        train_pbar.set_postfix({\n",
    "            'loss': f'{total_loss/(batch_idx+1):.4f}',\n",
    "            'acc': f'{100.*correct/total:.2f}%'\n",
    "        })\n",
    "    \n",
    "    return total_loss / len(train_loader), correct / total\n",
    "\n",
    "def validate(model, val_loader, criterion, device):\n",
    "    model.eval()\n",
    "    total_loss = 0\n",
    "    correct = 0\n",
    "    total = 0\n",
    "    \n",
    "    with torch.no_grad():\n",
    "        val_pbar = tqdm(val_loader, desc='Validation')\n",
    "        for batch_idx, (inputs, targets) in enumerate(val_pbar):\n",
    "            inputs, targets = inputs.to(device), targets.to(device)\n",
    "            inputs = inputs.view(inputs.size(0), 1, -1)\n",
    "            \n",
    "            outputs = model(inputs).squeeze()\n",
    "            loss = criterion(outputs, targets)\n",
    "            \n",
    "            total_loss += loss.item()\n",
    "            predictions = (outputs >= 0.5).float()\n",
    "            correct += (predictions == targets).sum().item()\n",
    "            total += targets.size(0)\n",
    "            \n",
    "            val_pbar.set_postfix({\n",
    "                'loss': f'{total_loss/(batch_idx+1):.4f}',\n",
    "                'acc': f'{100.*correct/total:.2f}%'\n",
    "            })\n",
    "    \n",
    "    return total_loss / len(val_loader), correct / total\n",
    "\n",
    "torch.manual_seed(42)\n",
    "\n",
    "device = torch.device('cuda' if torch.cuda.is_available() else 'cpu')\n",
    "model = SimpleCNNModel().to(device)\n",
    "criterion = nn.BCELoss()\n",
    "optimizer = torch.optim.Adam(model.parameters(), lr=0.001, weight_decay=1e-5)\n",
    "epochs = 100\n",
    "best_acc = 0\n",
    "for epoch in range(epochs):\n",
    "    print(f'\\nEpoch {epoch+1}/{epochs}')\n",
    "    \n",
    "    train_loss, train_acc = train_epoch(model, train_loader, criterion, optimizer, device)\n",
    "    val_loss, val_acc = validate(model, val_loader, criterion, device)\n",
    "    \n",
    "    print(f'Train Loss: {train_loss:.4f} | Train Acc: {train_acc*100:.2f}%')\n",
    "    print(f'Val Loss: {val_loss:.4f} | Val Acc: {val_acc*100:.2f}%')\n",
    "    \n",
    "    if val_acc > best_acc:\n",
    "        best_acc = val_acc\n",
    "        torch.save(model.state_dict(), 'best_model_24.pth')\n",
    "        print('Saved best model!')\n",
    "\n",
    "\n",
    "# set the number of epochs\n",
    "# epochs = 100\n",
    "# best_acc = 0\n",
    "\n",
    "# for epoch in range(epochs):\n",
    "#     \"\"\" Training \"\"\"\n",
    "#     model.train()\n",
    "\n",
    "#     # forward pass\n",
    "#     correct = 0\n",
    "#     total = 0\n",
    "#     train_loss = 0\n",
    "#     for X_batch, y_batch in train_loader:\n",
    "#         # ResNet18 expects 3-channel images, so we need to expand our data\n",
    "#         print(X_batch.shape)\n",
    "#         output = model(X_batch)\n",
    "#         print(\"!!!!!!!!\")\n",
    "#         print(output.shape)\n",
    "#         print(output)\n",
    "#         y_preds = output.squeeze()\n",
    "\n",
    "#         correct += torch.eq(y_preds, y_batch).sum().item()\n",
    "#         total += len(y_batch)\n",
    "\n",
    "#         loss = loss_fn(output, y_batch)\n",
    "#         train_loss += loss.item()\n",
    "#         # zero the optimizer\n",
    "#         optimizer.zero_grad()\n",
    "#         # backpropagation\n",
    "#         loss.backward()\n",
    "#         # Gradient Descent\n",
    "#         optimizer.step()\n",
    "\n",
    "#     \"\"\" Validation \"\"\"\n",
    "#     model.eval()\n",
    "#     correct = 0\n",
    "#     total = 0\n",
    "#     val_loss = 0\n",
    "#     with torch.inference_mode():\n",
    "#         for X_batch, y_batch in val_loader:\n",
    "#             # ResNet18 expects 3-channel images, so we need to expand our data\n",
    "#             output = model(X_batch).squeeze()\n",
    "#             y_preds = torch.round(torch.sigmoid(output))\n",
    "\n",
    "#             correct += torch.eq(y_preds, y_batch).sum().item()\n",
    "#             total += len(y_batch)\n",
    "\n",
    "#             loss = loss_fn(output, y_batch)\n",
    "#             val_loss += loss.item()\n",
    "        \n",
    "#         val_acc = (correct / total) * 100\n",
    "#         if val_acc > best_acc:\n",
    "#             best_acc = val_acc\n",
    "#             torch.save(model.state_dict(), \"n-15best.pth\")\n",
    "\n",
    "#     if epoch % 10 == 0:\n",
    "#         print(f\"Epoch: {epoch} | Train Loss: {train_loss:.5f} | Acc: {train_acc:.2f}% | Learning Rate: {scheduler.get_last_lr()[0]:.7f} | Val loss: {val_loss:.5f} | Val Acc: {val_acc:.2f}%\")\n",
    "#     train_acc = (correct / total) * 100"
   ]
  },
  {
   "cell_type": "code",
   "execution_count": null,
   "metadata": {},
   "outputs": [],
   "source": []
  }
 ],
 "metadata": {
  "kernelspec": {
   "display_name": "myenv",
   "language": "python",
   "name": "python3"
  },
  "language_info": {
   "codemirror_mode": {
    "name": "ipython",
    "version": 3
   },
   "file_extension": ".py",
   "mimetype": "text/x-python",
   "name": "python",
   "nbconvert_exporter": "python",
   "pygments_lexer": "ipython3",
   "version": "3.12.3"
  }
 },
 "nbformat": 4,
 "nbformat_minor": 2
}
