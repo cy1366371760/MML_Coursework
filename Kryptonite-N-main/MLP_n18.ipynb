{
  "cells": [
    {
      "cell_type": "code",
      "execution_count": null,
      "metadata": {
        "id": "Tzym4KI3ogAC"
      },
      "outputs": [],
      "source": [
        "import numpy as np\n",
        "from sklearn.model_selection import train_test_split\n",
        "from sklearn.preprocessing import PolynomialFeatures\n",
        "from sklearn.linear_model import LogisticRegression\n",
        "from sklearn.metrics import accuracy_score\n",
        "from sklearn.ensemble import GradientBoostingClassifier\n",
        "from sklearn.model_selection import KFold, cross_val_score\n",
        "from sklearn.neural_network import MLPClassifier\n",
        "from sklearn.metrics import make_scorer, accuracy_score\n",
        "from sklearn.mixture import GaussianMixture\n"
      ]
    },
    {
      "cell_type": "markdown",
      "metadata": {
        "id": "cQhfYQ0UmXzL"
      },
      "source": [
        "## N = 18"
      ]
    },
    {
      "cell_type": "code",
      "execution_count": null,
      "metadata": {
        "colab": {
          "base_uri": "https://localhost:8080/"
        },
        "id": "I_oRKwpnmXzN",
        "outputId": "884b78d8-3b91-466e-acea-12701346a590"
      },
      "outputs": [],
      "source": [
        "import numpy as np\n",
        "\n",
        "# load data\n",
        "X = np.load(\"Datasets/kryptonite-24-X.npy\")\n",
        "X.shape"
      ]
    },
    {
      "cell_type": "code",
      "execution_count": null,
      "metadata": {
        "colab": {
          "base_uri": "https://localhost:8080/"
        },
        "id": "tMbtWHvVmXzN",
        "outputId": "5e6d925c-f8c8-4e8f-9c4e-2715d5f9d84d"
      },
      "outputs": [],
      "source": [
        "y = np.load(\"Datasets/kryptonite-24-y.npy\")\n",
        "y.shape"
      ]
    },
    {
      "cell_type": "markdown",
      "metadata": {
        "id": "5ISVU8ikmXzN"
      },
      "source": [
        "## Data Transformation"
      ]
    },
    {
      "cell_type": "code",
      "execution_count": null,
      "metadata": {
        "id": "_zj158iznSkP"
      },
      "outputs": [],
      "source": [
        "\n",
        "# Assuming X and y are your feature matrix and labels, respectively\n",
        "# X is a 2D array where rows are samples and columns are features\n",
        "\n",
        "# Step 1: Apply GMM Transformation to each feature in X\n",
        "X_gmm = np.zeros_like(X)\n",
        "\n",
        "for i in range(X.shape[1]):\n",
        "    # Fit GMM with 2 components for each feature\n",
        "    gmm = GaussianMixture(n_components=2, random_state=0)\n",
        "    gmm.fit(X[:, i].reshape(-1, 1))\n",
        "    X_gmm[:, i] = gmm.predict(X[:, i].reshape(-1, 1))\n",
        "\n",
        "# Step 2: Combine the original features with the GMM-labeled features\n",
        "X_combined = np.concatenate([X, X_gmm], axis=1)\n",
        "# X_combined = X\n",
        "\n",
        "# # Step 3: Split the combined data into training, validation, and test sets\n",
        "# X_train, X_temp, y_train, y_temp = train_test_split(X_combined, y, test_size=0.8, random_state=42)\n",
        "# X_val, X_test, y_val, y_test = train_test_split(X_temp, y_temp, test_size=0.5, random_state=42)\n",
        "\n",
        "# # Print shapes to verify\n",
        "# print(\"Shape of X_train:\", X_train.shape)\n",
        "# print(\"Shape of X_val:\", X_val.shape)\n",
        "# print(\"Shape of X_test:\", X_test.shape)"
      ]
    },
    {
      "cell_type": "code",
      "execution_count": null,
      "metadata": {
        "colab": {
          "base_uri": "https://localhost:8080/"
        },
        "id": "_z2cb7fQmXzO",
        "outputId": "cce14ace-e022-437c-d437-85437c7e309f"
      },
      "outputs": [],
      "source": [
        "import numpy as np\n",
        "import torch\n",
        "from tqdm import tqdm\n",
        "from torch.utils.data import TensorDataset, DataLoader, random_split\n",
        "\n",
        "# Convert numpy arrays to PyTorch tensors\n",
        "X_tensor = torch.tensor(X_combined, dtype=torch.float)\n",
        "y_tensor = torch.tensor(y, dtype=torch.float)\n",
        "\n",
        "# create a TensorDataset\n",
        "dataset = TensorDataset(X_tensor, y_tensor)\n",
        "\n",
        "# define split sizes (80% train, 10% validation, 10% test)\n",
        "train_size = int(0.8 * len(dataset))\n",
        "val_size = int(0.1 * len(dataset))\n",
        "test_size = len(dataset) - train_size - val_size\n",
        "\n",
        "# Split the dataset into train, validation, and test\n",
        "train_dataset, val_dataset, test_dataset = random_split(dataset, [train_size, val_size, test_size])\n",
        "\n",
        "# Create DataLoaders for each subset\n",
        "batch_size = 128\n",
        "train_loader = DataLoader(train_dataset, batch_size=batch_size, shuffle=True)\n",
        "val_loader = DataLoader(val_dataset, batch_size=batch_size, shuffle=False)\n",
        "test_loader = DataLoader(test_dataset, batch_size=batch_size, shuffle=False)\n",
        "\n",
        "# check data loader output\n",
        "for X_batch, y_batch in tqdm(train_loader):\n",
        "    print(X_batch.shape, y_batch.shape)  # X_batch is of shape [batch_size, *input_shape]\n",
        "    break\n"
      ]
    },
    {
      "cell_type": "code",
      "execution_count": null,
      "metadata": {
        "id": "u9MtqdE2mXzO"
      },
      "outputs": [],
      "source": [
        "import torch.nn as nn\n",
        "import torch.optim as optim\n",
        "import torch.nn.functional as F\n",
        "\n",
        "# build model for training\n",
        "class MLP(nn.Module):\n",
        "    def __init__(self, input_size=36, hidden_size=128, output_size=1):\n",
        "        super(MLP, self).__init__()\n",
        "\n",
        "        self.layer1 = nn.Linear(input_size, hidden_size)\n",
        "        self.layer2 = nn.Linear(hidden_size, hidden_size*2)\n",
        "        self.layer3 = nn.Linear(hidden_size*2, hidden_size*2)\n",
        "        # self.layer4 = nn.Linear(hidden_size*2, hidden_size)\n",
        "        self.layer5 = nn.Linear(hidden_size*2, output_size)\n",
        "\n",
        "    def forward(self, x):\n",
        "        x = F.relu(self.layer1(x))\n",
        "        x = F.relu(self.layer2(x))\n",
        "        x = F.relu(self.layer3(x))\n",
        "        # x = F.relu(self.layer4(x))\n",
        "        x = torch.sigmoid(self.layer5(x))  # sigmoid activation for binary output\n",
        "        return x\n"
      ]
    },
    {
      "cell_type": "code",
      "execution_count": null,
      "metadata": {
        "colab": {
          "base_uri": "https://localhost:8080/"
        },
        "id": "7tB2jizpmXzO",
        "outputId": "c4dbdbe5-dd7f-4581-b17e-5aac3411d8ad"
      },
      "outputs": [],
      "source": [
        "# # initialize the model, loss function, and optimizer\n",
        "# model = MLP(input_size=18, hidden_size=128, output_size=1)\n",
        "# loss_fn = nn.BCELoss()  # binary Cross-Entropy Loss\n",
        "# optimizer = optim.Adam(model.parameters(), lr=1e-3, weight_decay=1e-4)\n",
        "# scheduler = torch.optim.lr_scheduler.StepLR(optimizer, step_size=40, gamma=0.1)\n",
        "\n",
        "# # Check if GPU is available and set the device\n",
        "# device = torch.device(\"cuda\" if torch.cuda.is_available() else \"cpu\")\n",
        "# print(\"Using device:\", device)\n",
        "\n",
        "# # Move the model to the GPU\n",
        "# model.to(device)\n",
        "\n",
        "# def train_epoch(model, train_loader, criterion, optimizer, scheduler, device):\n",
        "#     model.train()\n",
        "#     total_loss = 0\n",
        "#     correct = 0\n",
        "#     total = 0\n",
        "    \n",
        "#     # 使用tqdm显示进度条\n",
        "#     train_pbar = tqdm(train_loader, desc='Training')\n",
        "#     for batch_idx, (inputs, targets) in enumerate(train_pbar):\n",
        "#         inputs, targets = inputs.to(device), targets.to(device)\n",
        "        \n",
        "#         outputs = model(inputs).squeeze()\n",
        "\n",
        "#         predictions = torch.round(outputs)\n",
        "#         correct += torch.eq(predictions,targets).sum().item()\n",
        "#         total += len(targets)\n",
        "        \n",
        "#         loss = criterion(outputs, targets)\n",
        "#         total_loss += loss.item()\n",
        "#         optimizer.zero_grad()\n",
        "#         loss.backward()\n",
        "#         optimizer.step()\n",
        "        \n",
        "        \n",
        "#         # 计算准确率\n",
        "        \n",
        "#         # 更新进度条信息\n",
        "#         train_pbar.set_postfix({\n",
        "#             'loss': f'{total_loss/(batch_idx+1):.4f}',\n",
        "#             'acc': f'{100.*correct/total:.2f}%'\n",
        "#         })\n",
        "    \n",
        "#     scheduler.step()\n",
        "\n",
        "#     return total_loss / len(train_loader), correct / total\n",
        "\n",
        "# def validate(model, val_loader, criterion, device):\n",
        "#     model.eval()\n",
        "#     total_loss = 0\n",
        "#     correct = 0\n",
        "#     total = 0\n",
        "    \n",
        "#     with torch.no_grad():\n",
        "#         val_pbar = tqdm(val_loader, desc='Validation')\n",
        "#         for batch_idx, (inputs, targets) in enumerate(val_pbar):\n",
        "#             inputs, targets = inputs.to(device), targets.to(device)\n",
        "            \n",
        "#             outputs = model(inputs).squeeze()\n",
        "#             loss = criterion(outputs, targets)\n",
        "            \n",
        "#             total_loss += loss.item()\n",
        "#             predictions = torch.round(outputs)\n",
        "#             correct +=  torch.eq(predictions, targets).sum().item()\n",
        "#             total += len(targets)\n",
        "            \n",
        "#             val_pbar.set_postfix({\n",
        "#                 'loss': f'{total_loss/(batch_idx+1):.4f}',\n",
        "#                 'acc': f'{100.*correct/total:.2f}%'\n",
        "#             })\n",
        "    \n",
        "#     return total_loss / len(val_loader), correct / total\n",
        "\n",
        "# torch.manual_seed(42)\n",
        "\n",
        "# device = torch.device('cuda' if torch.cuda.is_available() else 'cpu')\n",
        "# criterion = loss_fn\n",
        "\n",
        "# epochs = 60\n",
        "# best_acc = 0\n",
        "# for epoch in range(epochs):\n",
        "#     print(f'\\nEpoch {epoch+1}/{epochs}')\n",
        "    \n",
        "#     train_loss, train_acc = train_epoch(model, train_loader, criterion, optimizer, scheduler, device)\n",
        "#     val_loss, val_acc = validate(model, val_loader, criterion, device)\n",
        "    \n",
        "#     print(f'Train Loss: {train_loss:.4f} | Train Acc: {train_acc*100:.2f}%')\n",
        "#     print(f'Val Loss: {val_loss:.4f} | Val Acc: {val_acc*100:.2f}%')\n",
        "    \n",
        "#     if val_acc > best_acc:\n",
        "#         best_acc = val_acc\n",
        "#         torch.save(model.state_dict(), 'best_model_24.pth')\n",
        "#         print('Saved best model!')"
      ]
    },
    {
      "cell_type": "code",
      "execution_count": null,
      "metadata": {
        "colab": {
          "base_uri": "https://localhost:8080/"
        },
        "id": "TGXqV3crmXzO",
        "outputId": "a985908e-b4e6-4146-aa20-bed6d1cb4556"
      },
      "outputs": [],
      "source": [
        "torch.manual_seed(42)\n",
        "# initialize the model, loss function, and optimizer\n",
        "model = MLP(input_size=48, hidden_size=128, output_size=1)\n",
        "loss_fn = nn.BCELoss()  # binary Cross-Entropy Loss\n",
        "optimizer = optim.Adam(model.parameters(), lr=1e-3, weight_decay=1e-4)\n",
        "scheduler = torch.optim.lr_scheduler.StepLR(optimizer, step_size=40, gamma=0.1)\n",
        "\n",
        "# Check if GPU is available and set the device\n",
        "device = torch.device(\"cuda\" if torch.cuda.is_available() else \"cpu\")\n",
        "print(\"Using device:\", device)\n",
        "\n",
        "# Move the model to the GPU\n",
        "model.to(device)\n",
        "# set the number of epochs\n",
        "epochs = 60\n",
        "best_acc = 0\n",
        "\n",
        "model.to(device)\n",
        "\n",
        "for epoch in range(epochs):\n",
        "    \"\"\" Training \"\"\"\n",
        "    model.train()\n",
        "\n",
        "    # forward pass\n",
        "    correct = 0\n",
        "    total = 0\n",
        "    train_loss = 0\n",
        "    for X_batch, y_batch in train_loader:\n",
        "\n",
        "        # Move data to the GPU\n",
        "        X_batch, y_batch = X_batch.to(device), y_batch.to(device)\n",
        "\n",
        "        output = model(X_batch).squeeze()\n",
        "        y_preds = torch.round(output)\n",
        "\n",
        "        correct += torch.eq(y_preds, y_batch).sum().item()\n",
        "        total += len(y_batch)\n",
        "\n",
        "        loss = loss_fn(output, y_batch)\n",
        "        train_loss += loss.item()\n",
        "        # zero the optimizer\n",
        "        optimizer.zero_grad()\n",
        "        # backpropagattion\n",
        "        loss.backward()\n",
        "        # GD\n",
        "        optimizer.step()\n",
        "\n",
        "    scheduler.step()\n",
        "    train_acc = (correct / total) * 100\n",
        "\n",
        "    \"\"\" Testing \"\"\"\n",
        "    model.eval()\n",
        "    correct = 0\n",
        "    total = 0\n",
        "    val_loss = 0\n",
        "    with torch.inference_mode():\n",
        "        for X_batch, y_batch in val_loader:\n",
        "            X_batch, y_batch = X_batch.to(device), y_batch.to(device)\n",
        "            output = model(X_batch).squeeze()\n",
        "            y_preds = torch.round(output)\n",
        "\n",
        "            correct += torch.eq(y_preds, y_batch).sum().item()\n",
        "            total += len(y_batch)\n",
        "\n",
        "            loss = loss_fn(output, y_batch)\n",
        "            val_loss += loss.item()\n",
        "\n",
        "        val_acc = (correct / total) * 100\n",
        "        if val_acc > best_acc:\n",
        "            best_acc = val_acc\n",
        "            torch.save(model.state_dict(), \"n-15best.pth\")\n",
        "\n",
        "    if epoch % 10 == 0:\n",
        "        print(f\"Epoch: {epoch} | Train Loss: {train_loss:.5f} | Acc: {train_acc:.2f}% | Learning Rate: {scheduler.get_last_lr()[0]:.7f} | Test loss: {val_loss:.5f} | Test Acc: {val_acc:.2f}%\")"
      ]
    },
    {
      "cell_type": "markdown",
      "metadata": {},
      "source": []
    },
    {
      "cell_type": "code",
      "execution_count": null,
      "metadata": {
        "id": "fVasStyNmXzO"
      },
      "outputs": [],
      "source": [
        "model = MLP(input_size=18, hidden_size=128, output_size=1)\n",
        "model.load_state_dict(torch.load(\"best_model_24.pth\"))\n",
        "model.eval()\n",
        "\n",
        "correct = 0\n",
        "total = 0\n",
        "val_loss = 0\n",
        "with torch.inference_mode():\n",
        "    for X_batch, y_batch in tqdm(test_loader):\n",
        "        output = model(X_batch).squeeze()\n",
        "        y_preds = torch.round(output)\n",
        "\n",
        "        correct += torch.eq(y_preds, y_batch).sum().item()\n",
        "        total += len(y_batch)\n",
        "\n",
        "        loss = loss_fn(output, y_batch)\n",
        "        val_loss += loss.item()\n",
        "\n",
        "    val_acc = (correct / total) * 100\n",
        "\n",
        "print(f\"Validation Loss: {val_loss:.5f} | Validation Acc: {val_acc:.2f}%\")"
      ]
    },
    {
      "cell_type": "code",
      "execution_count": null,
      "metadata": {},
      "outputs": [],
      "source": []
    }
  ],
  "metadata": {
    "accelerator": "TPU",
    "colab": {
      "gpuType": "V28",
      "provenance": []
    },
    "kernelspec": {
      "display_name": "Python 3",
      "name": "python3"
    },
    "language_info": {
      "codemirror_mode": {
        "name": "ipython",
        "version": 3
      },
      "file_extension": ".py",
      "mimetype": "text/x-python",
      "name": "python",
      "nbconvert_exporter": "python",
      "pygments_lexer": "ipython3",
      "version": "3.12.3"
    }
  },
  "nbformat": 4,
  "nbformat_minor": 0
}
