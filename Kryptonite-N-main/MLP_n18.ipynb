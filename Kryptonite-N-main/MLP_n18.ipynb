{
  "cells": [
    {
      "cell_type": "code",
      "source": [
        "import numpy as np\n",
        "from sklearn.model_selection import train_test_split\n",
        "from sklearn.preprocessing import PolynomialFeatures\n",
        "from sklearn.linear_model import LogisticRegression\n",
        "from sklearn.metrics import accuracy_score\n",
        "from sklearn.ensemble import GradientBoostingClassifier\n",
        "from sklearn.model_selection import KFold, cross_val_score\n",
        "from sklearn.neural_network import MLPClassifier\n",
        "from sklearn.metrics import make_scorer, accuracy_score\n",
        "from sklearn.mixture import GaussianMixture\n"
      ],
      "metadata": {
        "id": "Tzym4KI3ogAC"
      },
      "execution_count": 1,
      "outputs": []
    },
    {
      "cell_type": "markdown",
      "metadata": {
        "id": "cQhfYQ0UmXzL"
      },
      "source": [
        "## N = 18"
      ]
    },
    {
      "cell_type": "code",
      "source": [
        "# prompt: mount to google drive\n",
        "\n",
        "from google.colab import drive\n",
        "drive.mount('/content/drive')\n"
      ],
      "metadata": {
        "colab": {
          "base_uri": "https://localhost:8080/"
        },
        "id": "S3G8k3D6nbnX",
        "outputId": "14cef62c-2c70-4a09-c9e0-cc50d07b882e"
      },
      "execution_count": 2,
      "outputs": [
        {
          "output_type": "stream",
          "name": "stdout",
          "text": [
            "Mounted at /content/drive\n"
          ]
        }
      ]
    },
    {
      "cell_type": "code",
      "execution_count": 49,
      "metadata": {
        "colab": {
          "base_uri": "https://localhost:8080/"
        },
        "id": "I_oRKwpnmXzN",
        "outputId": "884b78d8-3b91-466e-acea-12701346a590"
      },
      "outputs": [
        {
          "output_type": "execute_result",
          "data": {
            "text/plain": [
              "(36000, 18)"
            ]
          },
          "metadata": {},
          "execution_count": 49
        }
      ],
      "source": [
        "import numpy as np\n",
        "\n",
        "# load data\n",
        "X = np.load(\"/content/drive/MyDrive/math-ml/Datasets/Datasets/kryptonite-18-X.npy\")\n",
        "X.shape"
      ]
    },
    {
      "cell_type": "code",
      "execution_count": 50,
      "metadata": {
        "colab": {
          "base_uri": "https://localhost:8080/"
        },
        "id": "tMbtWHvVmXzN",
        "outputId": "5e6d925c-f8c8-4e8f-9c4e-2715d5f9d84d"
      },
      "outputs": [
        {
          "output_type": "execute_result",
          "data": {
            "text/plain": [
              "(36000,)"
            ]
          },
          "metadata": {},
          "execution_count": 50
        }
      ],
      "source": [
        "y = np.load(\"/content/drive/MyDrive/math-ml/Datasets/Datasets/kryptonite-18-y.npy\")\n",
        "y.shape"
      ]
    },
    {
      "cell_type": "markdown",
      "metadata": {
        "id": "5ISVU8ikmXzN"
      },
      "source": [
        "## Data Transformation"
      ]
    },
    {
      "cell_type": "code",
      "source": [
        "\n",
        "# Assuming X and y are your feature matrix and labels, respectively\n",
        "# X is a 2D array where rows are samples and columns are features\n",
        "\n",
        "# Step 1: Apply GMM Transformation to each feature in X\n",
        "X_gmm = np.zeros_like(X)\n",
        "\n",
        "for i in range(X.shape[1]):\n",
        "    # Fit GMM with 2 components for each feature\n",
        "    gmm = GaussianMixture(n_components=2, random_state=0)\n",
        "    gmm.fit(X[:, i].reshape(-1, 1))\n",
        "    X_gmm[:, i] = gmm.predict(X[:, i].reshape(-1, 1))\n",
        "\n",
        "# Step 2: Combine the original features with the GMM-labeled features\n",
        "X_combined = np.concatenate([X, X_gmm], axis=1)\n",
        "\n",
        "# # Step 3: Split the combined data into training, validation, and test sets\n",
        "# X_train, X_temp, y_train, y_temp = train_test_split(X_combined, y, test_size=0.8, random_state=42)\n",
        "# X_val, X_test, y_val, y_test = train_test_split(X_temp, y_temp, test_size=0.5, random_state=42)\n",
        "\n",
        "# # Print shapes to verify\n",
        "# print(\"Shape of X_train:\", X_train.shape)\n",
        "# print(\"Shape of X_val:\", X_val.shape)\n",
        "# print(\"Shape of X_test:\", X_test.shape)"
      ],
      "metadata": {
        "id": "_zj158iznSkP"
      },
      "execution_count": 51,
      "outputs": []
    },
    {
      "cell_type": "code",
      "execution_count": 52,
      "metadata": {
        "colab": {
          "base_uri": "https://localhost:8080/"
        },
        "id": "_z2cb7fQmXzO",
        "outputId": "cce14ace-e022-437c-d437-85437c7e309f"
      },
      "outputs": [
        {
          "output_type": "stream",
          "name": "stderr",
          "text": [
            "  0%|          | 0/225 [00:00<?, ?it/s]"
          ]
        },
        {
          "output_type": "stream",
          "name": "stdout",
          "text": [
            "torch.Size([128, 36]) torch.Size([128])\n"
          ]
        },
        {
          "output_type": "stream",
          "name": "stderr",
          "text": [
            "\n"
          ]
        }
      ],
      "source": [
        "import numpy as np\n",
        "import torch\n",
        "from tqdm import tqdm\n",
        "from torch.utils.data import TensorDataset, DataLoader, random_split\n",
        "\n",
        "# Convert numpy arrays to PyTorch tensors\n",
        "X_tensor = torch.tensor(X_combined, dtype=torch.float)\n",
        "y_tensor = torch.tensor(y, dtype=torch.float)\n",
        "\n",
        "# create a TensorDataset\n",
        "dataset = TensorDataset(X_tensor, y_tensor)\n",
        "\n",
        "# define split sizes (80% train, 10% validation, 10% test)\n",
        "train_size = int(0.8 * len(dataset))\n",
        "val_size = int(0.1 * len(dataset))\n",
        "test_size = len(dataset) - train_size - val_size\n",
        "\n",
        "# Split the dataset into train, validation, and test\n",
        "train_dataset, val_dataset, test_dataset = random_split(dataset, [train_size, val_size, test_size])\n",
        "\n",
        "# Create DataLoaders for each subset\n",
        "batch_size = 128\n",
        "train_loader = DataLoader(train_dataset, batch_size=batch_size, shuffle=True)\n",
        "val_loader = DataLoader(val_dataset, batch_size=batch_size, shuffle=False)\n",
        "test_loader = DataLoader(test_dataset, batch_size=batch_size, shuffle=False)\n",
        "\n",
        "# check data loader output\n",
        "for X_batch, y_batch in tqdm(train_loader):\n",
        "    print(X_batch.shape, y_batch.shape)  # X_batch is of shape [batch_size, *input_shape]\n",
        "    break\n"
      ]
    },
    {
      "cell_type": "code",
      "execution_count": 53,
      "metadata": {
        "id": "u9MtqdE2mXzO"
      },
      "outputs": [],
      "source": [
        "import torch.nn as nn\n",
        "import torch.optim as optim\n",
        "import torch.nn.functional as F\n",
        "\n",
        "# build model for training\n",
        "class MLP(nn.Module):\n",
        "    def __init__(self, input_size=36, hidden_size=128, output_size=1):\n",
        "        super(MLP, self).__init__()\n",
        "\n",
        "        self.layer1 = nn.Linear(input_size, hidden_size)\n",
        "        self.layer2 = nn.Linear(hidden_size, hidden_size*2)\n",
        "        self.layer3 = nn.Linear(hidden_size*2, hidden_size*2)\n",
        "        # self.layer4 = nn.Linear(hidden_size*2, hidden_size)\n",
        "        self.layer5 = nn.Linear(hidden_size*2, output_size)\n",
        "\n",
        "    def forward(self, x):\n",
        "        x = F.relu(self.layer1(x))\n",
        "        x = F.relu(self.layer2(x))\n",
        "        x = F.relu(self.layer3(x))\n",
        "        # x = F.relu(self.layer4(x))\n",
        "        x = torch.sigmoid(self.layer5(x))  # sigmoid activation for binary output\n",
        "        return x\n"
      ]
    },
    {
      "cell_type": "code",
      "execution_count": 54,
      "metadata": {
        "colab": {
          "base_uri": "https://localhost:8080/"
        },
        "id": "7tB2jizpmXzO",
        "outputId": "c4dbdbe5-dd7f-4581-b17e-5aac3411d8ad"
      },
      "outputs": [
        {
          "output_type": "stream",
          "name": "stdout",
          "text": [
            "Using device: cpu\n"
          ]
        },
        {
          "output_type": "execute_result",
          "data": {
            "text/plain": [
              "MLP(\n",
              "  (layer1): Linear(in_features=36, out_features=128, bias=True)\n",
              "  (layer2): Linear(in_features=128, out_features=256, bias=True)\n",
              "  (layer3): Linear(in_features=256, out_features=256, bias=True)\n",
              "  (layer5): Linear(in_features=256, out_features=1, bias=True)\n",
              ")"
            ]
          },
          "metadata": {},
          "execution_count": 54
        }
      ],
      "source": [
        "# initialize the model, loss function, and optimizer\n",
        "model = MLP(input_size=36, hidden_size=128, output_size=1)\n",
        "loss_fn = nn.BCELoss()  # binary Cross-Entropy Loss\n",
        "optimizer = optim.Adam(model.parameters(), lr=1e-3, weight_decay=1e-4)\n",
        "scheduler = torch.optim.lr_scheduler.StepLR(optimizer, step_size=40, gamma=0.1)\n",
        "\n",
        "# Check if GPU is available and set the device\n",
        "device = torch.device(\"cuda\" if torch.cuda.is_available() else \"cpu\")\n",
        "print(\"Using device:\", device)\n",
        "\n",
        "# Move the model to the GPU\n",
        "model.to(device)"
      ]
    },
    {
      "cell_type": "code",
      "execution_count": 55,
      "metadata": {
        "colab": {
          "base_uri": "https://localhost:8080/"
        },
        "id": "TGXqV3crmXzO",
        "outputId": "a985908e-b4e6-4146-aa20-bed6d1cb4556"
      },
      "outputs": [
        {
          "output_type": "stream",
          "name": "stdout",
          "text": [
            "Epoch: 0 | Train Loss: 156.04414 | Acc: 49.90% | Learning Rate: 0.0010000 | Test loss: 20.09862 | Test Acc: 50.42%\n",
            "Epoch: 10 | Train Loss: 37.82350 | Acc: 95.18% | Learning Rate: 0.0010000 | Test loss: 5.23209 | Test Acc: 94.22%\n",
            "Epoch: 20 | Train Loss: 31.45525 | Acc: 96.54% | Learning Rate: 0.0010000 | Test loss: 4.94523 | Test Acc: 96.33%\n",
            "Epoch: 30 | Train Loss: 28.62321 | Acc: 96.78% | Learning Rate: 0.0010000 | Test loss: 4.63058 | Test Acc: 96.53%\n",
            "Epoch: 40 | Train Loss: 25.70728 | Acc: 96.91% | Learning Rate: 0.0001000 | Test loss: 4.55854 | Test Acc: 96.58%\n",
            "Epoch: 50 | Train Loss: 24.69711 | Acc: 96.96% | Learning Rate: 0.0001000 | Test loss: 4.64621 | Test Acc: 96.56%\n"
          ]
        }
      ],
      "source": [
        "torch.manual_seed(42)\n",
        "\n",
        "# set the number of epochs\n",
        "epochs = 60\n",
        "best_acc = 0\n",
        "\n",
        "for epoch in range(epochs):\n",
        "    \"\"\" Training \"\"\"\n",
        "    model.train()\n",
        "\n",
        "    # forward pass\n",
        "    correct = 0\n",
        "    total = 0\n",
        "    train_loss = 0\n",
        "    for X_batch, y_batch in train_loader:\n",
        "\n",
        "        # Move data to the GPU\n",
        "        X_batch, y_batch = X_batch.to(device), y_batch.to(device)\n",
        "\n",
        "        output = model(X_batch).squeeze()\n",
        "        y_preds = torch.round(output)\n",
        "\n",
        "        correct += torch.eq(y_preds, y_batch).sum().item()\n",
        "        total += len(y_batch)\n",
        "\n",
        "        loss = loss_fn(output, y_batch)\n",
        "        train_loss += loss.item()\n",
        "        # zero the optimizer\n",
        "        optimizer.zero_grad()\n",
        "        # backpropagattion\n",
        "        loss.backward()\n",
        "        # GD\n",
        "        optimizer.step()\n",
        "\n",
        "    scheduler.step()\n",
        "    train_acc = (correct / total) * 100\n",
        "\n",
        "    \"\"\" Testing \"\"\"\n",
        "    model.eval()\n",
        "    correct = 0\n",
        "    total = 0\n",
        "    val_loss = 0\n",
        "    with torch.inference_mode():\n",
        "        for X_batch, y_batch in val_loader:\n",
        "            output = model(X_batch).squeeze()\n",
        "            y_preds = torch.round(output)\n",
        "\n",
        "            correct += torch.eq(y_preds, y_batch).sum().item()\n",
        "            total += len(y_batch)\n",
        "\n",
        "            loss = loss_fn(output, y_batch)\n",
        "            val_loss += loss.item()\n",
        "\n",
        "        val_acc = (correct / total) * 100\n",
        "        if val_acc > best_acc:\n",
        "            best_acc = val_acc\n",
        "            torch.save(model.state_dict(), \"n-15best.pth\")\n",
        "\n",
        "    if epoch % 10 == 0:\n",
        "        print(f\"Epoch: {epoch} | Train Loss: {train_loss:.5f} | Acc: {train_acc:.2f}% | Learning Rate: {scheduler.get_last_lr()[0]:.7f} | Test loss: {val_loss:.5f} | Test Acc: {val_acc:.2f}%\")"
      ]
    },
    {
      "cell_type": "code",
      "execution_count": null,
      "metadata": {
        "id": "fVasStyNmXzO"
      },
      "outputs": [],
      "source": [
        "model = MLP(input_size=15, hidden_size=128, output_size=1)\n",
        "model.load_state_dict(torch.load(\"n-15best.pth\"))\n",
        "model.eval()\n",
        "\n",
        "correct = 0\n",
        "total = 0\n",
        "val_loss = 0\n",
        "with torch.inference_mode():\n",
        "    for X_batch, y_batch in tqdm(val_loader):\n",
        "        output = model(X_batch).squeeze()\n",
        "        y_preds = torch.round(output)\n",
        "\n",
        "        correct += torch.eq(y_preds, y_batch).sum().item()\n",
        "        total += len(y_batch)\n",
        "\n",
        "        loss = loss_fn(output, y_batch)\n",
        "        val_loss += loss.item()\n",
        "\n",
        "    val_acc = (correct / total) * 100\n",
        "\n",
        "print(f\"Validation Loss: {val_loss:.5f} | Validation Acc: {val_acc:.2f}%\")"
      ]
    }
  ],
  "metadata": {
    "kernelspec": {
      "display_name": "Python 3",
      "name": "python3"
    },
    "language_info": {
      "codemirror_mode": {
        "name": "ipython",
        "version": 3
      },
      "file_extension": ".py",
      "mimetype": "text/x-python",
      "name": "python",
      "nbconvert_exporter": "python",
      "pygments_lexer": "ipython3",
      "version": "3.9.10"
    },
    "colab": {
      "provenance": [],
      "gpuType": "V28"
    },
    "accelerator": "TPU"
  },
  "nbformat": 4,
  "nbformat_minor": 0
}